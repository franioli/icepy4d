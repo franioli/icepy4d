{
 "cells": [
  {
   "cell_type": "code",
   "execution_count": null,
   "metadata": {},
   "outputs": [],
   "source": [
    "import py4dgeo\n",
    "import numpy as np\n",
    "from datetime import datetime \n",
    "import os\n",
    "from pathlib import Path\n",
    "import open3d as o3d"
   ]
  },
  {
   "cell_type": "code",
   "execution_count": null,
   "metadata": {},
   "outputs": [],
   "source": [
    "\n",
    "path = \"res/point_clouds\"\n",
    "pattern = \"dense_*.ply\"\n",
    "\n",
    "first_n = 50\n",
    "pc_list = sorted(Path(path).glob(f\"{pattern}\"))\n",
    "pc_list = pc_list[:first_n]\n",
    "\n",
    "# read the timestamps from file names\n",
    "timestamps = []\n",
    "for f in pc_list:\n",
    "\n",
    "    # get the timestamp from the file name\n",
    "    timestamp_str = f.stem.replace(\"dense_\", \"\")\n",
    "\n",
    "    # convert string to datetime object\n",
    "    timestamp = datetime.strptime(timestamp_str, '%Y_%m_%d')\n",
    "    timestamps.append(timestamp)\n"
   ]
  },
  {
   "cell_type": "code",
   "execution_count": null,
   "metadata": {},
   "outputs": [],
   "source": [
    "analysis = py4dgeo.SpatiotemporalAnalysis('test.zip', force=True)"
   ]
  },
  {
   "cell_type": "code",
   "execution_count": null,
   "metadata": {},
   "outputs": [],
   "source": [
    "pcd_ref  = o3d.io.read_point_cloud(str(pc_list[0])).random_down_sample(0.3)\n",
    "pcd_ref = np.asarray(pcd_ref.points)\n",
    "\n",
    "reference_epoch = py4dgeo.epoch.as_epoch(pcd_ref)\n",
    "reference_epoch.timestamp = timestamps[0]"
   ]
  },
  {
   "cell_type": "code",
   "execution_count": null,
   "metadata": {},
   "outputs": [],
   "source": [
    "analysis.reference_epoch  = reference_epoch"
   ]
  },
  {
   "cell_type": "code",
   "execution_count": null,
   "metadata": {},
   "outputs": [],
   "source": [
    "# specify corepoints, here all points of the reference epoch\n",
    "analysis.corepoints = reference_epoch.cloud[::100]\n",
    "\n",
    "# specify M3C2 parameters\n",
    "analysis.m3c2 = py4dgeo.M3C2(cyl_radii=(0.5,), normal_radii=(0.3,), max_distance=2.0, registration_error = 0.15)"
   ]
  },
  {
   "cell_type": "code",
   "execution_count": null,
   "metadata": {},
   "outputs": [],
   "source": [
    "# create a list to collect epoch objects\n",
    "epochs = []\n",
    "for e, pc_file in enumerate(pc_list[1:]):\n",
    "    pcd  = o3d.io.read_point_cloud(str(pc_file)).random_down_sample(0.3)\n",
    "    pcd = np.asarray(pcd.points)    \n",
    "    epoch = py4dgeo.epoch.as_epoch(pcd) \n",
    "    epoch.timestamp = timestamps[e]\n",
    "    epochs.append(epoch)\n",
    "\n",
    "# add epoch objects to the spatiotemporal analysis object\n",
    "analysis.add_epochs(*epochs)"
   ]
  },
  {
   "cell_type": "code",
   "execution_count": null,
   "metadata": {},
   "outputs": [],
   "source": [
    "analysis = py4dgeo.SpatiotemporalAnalysis('test.zip')"
   ]
  },
  {
   "cell_type": "code",
   "execution_count": null,
   "metadata": {},
   "outputs": [],
   "source": [
    "# print the spatiotemporal analysis data for 3 corepoints and 5 epochs, respectively\n",
    "print(f\"Space-time distance array:\\n{analysis.distances[:3,:5]}\")\n",
    "print(f\"Uncertainties of M3C2 distance calculation:\\n{analysis.uncertainties['lodetection'][:3, :5]}\")\n",
    "print(f\"Timestamp deltas of analysis:\\n{analysis.timedeltas[:5]}\")"
   ]
  },
  {
   "cell_type": "code",
   "execution_count": null,
   "metadata": {},
   "outputs": [],
   "source": []
  },
  {
   "cell_type": "code",
   "execution_count": null,
   "metadata": {},
   "outputs": [],
   "source": [
    "# import plotting module\n",
    "import matplotlib.pyplot as plt\n",
    "\n",
    "# allow interactive rotation in notebook\n",
    "%matplotlib inline\n",
    "\n",
    "# create the figure\n",
    "fig=plt.figure(figsize=(12,5))\n",
    "ax1=fig.add_subplot(1,2,1,projection='3d',computed_zorder=False)\n",
    "ax2=fig.add_subplot(1,2,2)\n",
    "\n",
    "# get the corepoints\n",
    "corepoints = analysis.corepoints.cloud\n",
    "\n",
    "# get change values of last epoch for all corepoints\n",
    "distances = analysis.distances\n",
    "distances_epoch = [d[20] for d in distances]\n",
    "\n",
    "# get the time series of changes at a specific core point locations\n",
    "cp_idx_sel = 10000\n",
    "coord_sel = analysis.corepoints.cloud[cp_idx_sel]\n",
    "timeseries_sel = distances[cp_idx_sel]\n",
    "\n",
    "# get the list of timestamps from the reference epoch timestamp and timedeltas\n",
    "timestamps = [t + analysis.reference_epoch.timestamp for t in analysis.timedeltas]\n",
    "\n",
    "# plot the scene\n",
    "d = ax1.scatter(corepoints[:,0], corepoints[:,1], corepoints[:,2], c=distances_epoch[:], cmap='seismic_r', vmin=-1.5, vmax=1.5, s=1, zorder=1) \n",
    "plt.colorbar(d, format=('%.2f'), label='Distance [m]', ax=ax1, shrink=.5, pad=.15)\n",
    "\n",
    "# add the location of the selected coordinate\n",
    "ax1.scatter(coord_sel[0], coord_sel[1], coord_sel[2], c='black', s=3, zorder=2, label='Selected location')\n",
    "ax1.legend()\n",
    "\n",
    "ax1.set_xlabel('X [m]')\n",
    "ax1.set_ylabel('Y [m]')\n",
    "ax1.set_zlabel('Z [m]')\n",
    "ax1.set_aspect('equal')\n",
    "ax1.view_init(elev=30., azim=150.)\n",
    "ax1.set_title('Changes at %s' % (analysis.reference_epoch.timestamp+analysis.timedeltas[20]))\n",
    "\n",
    "# plot the time series\n",
    "ax2.plot(timestamps, timeseries_sel, color='blue')\n",
    "ax2.set_xlabel('Date')\n",
    "ax2.set_ylabel('Distance [m]')\n",
    "ax2.grid()\n",
    "# ax2.set_ylim(-0.2,1.0)\n",
    "ax2.set_title('Time series at selected location')\n",
    "\n",
    "plt.tight_layout()\n",
    "plt.show()"
   ]
  }
 ],
 "metadata": {
  "kernelspec": {
   "display_name": "py4dgeo",
   "language": "python",
   "name": "python3"
  },
  "language_info": {
   "codemirror_mode": {
    "name": "ipython",
    "version": 3
   },
   "file_extension": ".py",
   "mimetype": "text/x-python",
   "name": "python",
   "nbconvert_exporter": "python",
   "pygments_lexer": "ipython3",
   "version": "3.8.15"
  }
 },
 "nbformat": 4,
 "nbformat_minor": 2
}
