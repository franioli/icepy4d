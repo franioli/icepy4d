{
 "cells": [
  {
   "cell_type": "code",
   "execution_count": 8,
   "metadata": {},
   "outputs": [],
   "source": [
    "from icepy4d.classes import Image\n",
    "from icepy4d.matching import SuperGlueMatcher, LOFTRMatcher, Quality, TileSelection, GeometricVerification,"
   ]
  },
  {
   "cell_type": "markdown",
   "metadata": {},
   "source": [
    "The first step is to load the images as numpy arrays.  \n",
    "We will use the Image class implemented in ICEpy4D, which allows for creating an Image instance by passing the path to the image file as `Image('path_to_image')`.  \n",
    "Creating the Image instance will read the exif data of the image and store them in the Image object. The actual image value is read when the Image.value proprierty is accessed.\n",
    "Alternatevely, one can also use OpencCV imread function to read the image as a numpy array (pay attention to the channel order, that should be RGB, while Opencv uses BGR)."
   ]
  },
  {
   "cell_type": "code",
   "execution_count": 4,
   "metadata": {},
   "outputs": [],
   "source": [
    "image0 = Image('./data/img/p1/IMG_2637.jpg').value\n",
    "image1 = Image('./data/img/p2/IMG_1112.jpg').value"
   ]
  },
  {
   "cell_type": "markdown",
   "metadata": {},
   "source": [
    "### SuperGlue matching\n",
    "\n",
    "For running the matching with SuperGlue, a new SuperGlueMatcher object must be initialized with the parameters for SuperGlue matching (see the documentation of the class for more details). The parameters are given as a dictionary, and the default values are used if nothing is given."
   ]
  },
  {
   "cell_type": "code",
   "execution_count": 10,
   "metadata": {},
   "outputs": [
    {
     "name": "stdout",
     "output_type": "stream",
     "text": [
      "Loaded SuperPoint model\n",
      "Loaded SuperGlue model (\"outdoor\" weights)\n",
      "Function match took 41.2589 seconds\n"
     ]
    },
    {
     "data": {
      "text/plain": [
       "True"
      ]
     },
     "execution_count": 10,
     "metadata": {},
     "output_type": "execute_result"
    }
   ],
   "source": [
    "matching_cfg = {\n",
    "    \"weights\": \"outdoor\",\n",
    "    \"keypoint_threshold\": 0.0001,\n",
    "    \"max_keypoints\": 8192,\n",
    "    \"match_threshold\": 0.2,\n",
    "    \"force_cpu\": False,\n",
    "}\n",
    "\n",
    "matcher = SuperGlueMatcher(matching_cfg)\n",
    "matcher.match(\n",
    "    image0,\n",
    "    image1,\n",
    "    quality=Quality.HIGH,\n",
    "    tile_selection=TileSelection.PRESELECTION,\n",
    "    grid=[4, 3],\n",
    "    overlap=200,\n",
    "    do_viz_matches=True,\n",
    "    do_viz_tiles=False,\n",
    "    save_dir = \"sandbox/superglue_matches\",\n",
    "    geometric_verification=GeometricVerification.PYDEGENSAC,\n",
    "    threshold=1.5,\n",
    ")"
   ]
  },
  {
   "cell_type": "code",
   "execution_count": 5,
   "metadata": {},
   "outputs": [
    {
     "name": "stdout",
     "output_type": "stream",
     "text": [
      "\u001b[0;37m2023-09-02 16:08:08 | [INFO    ] Running inference on device cuda\u001b[0m\n",
      "\u001b[0;37m2023-09-02 16:08:09 | [INFO    ] Matching by tiles...\u001b[0m\n",
      "\u001b[0;37m2023-09-02 16:08:09 | [INFO    ] Matching tiles by preselection tile selection\u001b[0m\n",
      "\u001b[0;37m2023-09-02 16:08:10 | [INFO    ]  - Matching tile pair (0, 0)\u001b[0m\n",
      "\u001b[0;37m2023-09-02 16:08:11 | [INFO    ]  - Matching tile pair (0, 1)\u001b[0m\n",
      "\u001b[0;37m2023-09-02 16:08:11 | [INFO    ]  - Matching tile pair (0, 9)\u001b[0m\n",
      "\u001b[0;37m2023-09-02 16:08:12 | [INFO    ]  - Matching tile pair (1, 0)\u001b[0m\n",
      "\u001b[0;37m2023-09-02 16:08:13 | [INFO    ]  - Matching tile pair (1, 1)\u001b[0m\n",
      "\u001b[0;37m2023-09-02 16:08:14 | [INFO    ]  - Matching tile pair (1, 4)\u001b[0m\n",
      "\u001b[0;37m2023-09-02 16:08:15 | [INFO    ]  - Matching tile pair (1, 5)\u001b[0m\n",
      "\u001b[0;37m2023-09-02 16:08:16 | [INFO    ]  - Matching tile pair (1, 7)\u001b[0m\n",
      "\u001b[0;37m2023-09-02 16:08:17 | [INFO    ]  - Matching tile pair (1, 9)\u001b[0m\n",
      "\u001b[0;37m2023-09-02 16:08:17 | [INFO    ]  - Matching tile pair (2, 2)\u001b[0m\n",
      "\u001b[0;37m2023-09-02 16:08:18 | [INFO    ]  - Matching tile pair (2, 3)\u001b[0m\n",
      "\u001b[0;37m2023-09-02 16:08:19 | [INFO    ]  - Matching tile pair (2, 5)\u001b[0m\n",
      "\u001b[0;37m2023-09-02 16:08:20 | [INFO    ]  - Matching tile pair (2, 7)\u001b[0m\n",
      "\u001b[0;37m2023-09-02 16:08:21 | [INFO    ]  - Matching tile pair (2, 9)\u001b[0m\n",
      "\u001b[0;37m2023-09-02 16:08:22 | [INFO    ]  - Matching tile pair (3, 3)\u001b[0m\n",
      "\u001b[0;37m2023-09-02 16:08:22 | [INFO    ]  - Matching tile pair (3, 7)\u001b[0m\n",
      "\u001b[0;37m2023-09-02 16:08:23 | [INFO    ]  - Matching tile pair (3, 14)\u001b[0m\n",
      "\u001b[0;37m2023-09-02 16:08:24 | [INFO    ]  - Matching tile pair (4, 1)\u001b[0m\n",
      "\u001b[0;37m2023-09-02 16:08:25 | [INFO    ]  - Matching tile pair (4, 3)\u001b[0m\n",
      "\u001b[0;37m2023-09-02 16:08:26 | [INFO    ]  - Matching tile pair (4, 5)\u001b[0m\n",
      "\u001b[0;37m2023-09-02 16:08:27 | [INFO    ]  - Matching tile pair (4, 6)\u001b[0m\n",
      "\u001b[0;37m2023-09-02 16:08:28 | [INFO    ]  - Matching tile pair (5, 1)\u001b[0m\n",
      "\u001b[0;37m2023-09-02 16:08:28 | [INFO    ]  - Matching tile pair (5, 2)\u001b[0m\n",
      "\u001b[0;37m2023-09-02 16:08:29 | [INFO    ]  - Matching tile pair (5, 5)\u001b[0m\n",
      "\u001b[0;37m2023-09-02 16:08:30 | [INFO    ]  - Matching tile pair (5, 6)\u001b[0m\n",
      "\u001b[0;37m2023-09-02 16:08:31 | [INFO    ]  - Matching tile pair (6, 14)\u001b[0m\n",
      "\u001b[0;37m2023-09-02 16:08:32 | [INFO    ]  - Matching tile pair (7, 14)\u001b[0m\n",
      "\u001b[0;37m2023-09-02 16:08:33 | [INFO    ]  - Matching tile pair (8, 3)\u001b[0m\n",
      "\u001b[0;37m2023-09-02 16:08:34 | [INFO    ]  - Matching tile pair (8, 7)\u001b[0m\n",
      "\u001b[0;37m2023-09-02 16:08:34 | [INFO    ]  - Matching tile pair (8, 9)\u001b[0m\n",
      "\u001b[0;37m2023-09-02 16:08:35 | [INFO    ]  - Matching tile pair (8, 11)\u001b[0m\n",
      "\u001b[0;37m2023-09-02 16:08:36 | [INFO    ]  - Matching tile pair (8, 12)\u001b[0m\n",
      "\u001b[0;37m2023-09-02 16:08:37 | [INFO    ]  - Matching tile pair (9, 9)\u001b[0m\n",
      "\u001b[0;37m2023-09-02 16:08:38 | [INFO    ]  - Matching tile pair (9, 10)\u001b[0m\n",
      "\u001b[0;37m2023-09-02 16:08:39 | [INFO    ]  - Matching tile pair (9, 12)\u001b[0m\n",
      "\u001b[0;37m2023-09-02 16:08:40 | [INFO    ]  - Matching tile pair (9, 13)\u001b[0m\n",
      "\u001b[0;37m2023-09-02 16:08:41 | [INFO    ]  - Matching tile pair (10, 2)\u001b[0m\n",
      "\u001b[0;37m2023-09-02 16:08:41 | [INFO    ]  - Matching tile pair (10, 7)\u001b[0m\n",
      "\u001b[0;37m2023-09-02 16:08:42 | [INFO    ]  - Matching tile pair (10, 10)\u001b[0m\n",
      "\u001b[0;37m2023-09-02 16:08:43 | [INFO    ]  - Matching tile pair (10, 13)\u001b[0m\n",
      "\u001b[0;37m2023-09-02 16:08:44 | [INFO    ]  - Matching tile pair (10, 14)\u001b[0m\n",
      "\u001b[0;37m2023-09-02 16:08:45 | [INFO    ]  - Matching tile pair (11, 11)\u001b[0m\n",
      "\u001b[0;37m2023-09-02 16:08:46 | [INFO    ]  - Matching tile pair (11, 14)\u001b[0m\n",
      "\u001b[0;37m2023-09-02 16:08:47 | [INFO    ]  - Matching tile pair (11, 15)\u001b[0m\n",
      "\u001b[0;37m2023-09-02 16:08:47 | [INFO    ]  - Matching tile pair (12, 8)\u001b[0m\n",
      "\u001b[0;37m2023-09-02 16:08:48 | [INFO    ]  - Matching tile pair (12, 12)\u001b[0m\n",
      "\u001b[0;37m2023-09-02 16:08:49 | [INFO    ]  - Matching tile pair (12, 16)\u001b[0m\n",
      "\u001b[0;37m2023-09-02 16:08:50 | [INFO    ]  - Matching tile pair (13, 12)\u001b[0m\n",
      "\u001b[0;37m2023-09-02 16:08:51 | [INFO    ]  - Matching tile pair (13, 13)\u001b[0m\n",
      "\u001b[0;37m2023-09-02 16:08:52 | [INFO    ]  - Matching tile pair (13, 16)\u001b[0m\n",
      "\u001b[0;37m2023-09-02 16:08:53 | [INFO    ]  - Matching tile pair (13, 17)\u001b[0m\n",
      "\u001b[0;37m2023-09-02 16:08:54 | [INFO    ]  - Matching tile pair (14, 13)\u001b[0m\n",
      "\u001b[0;37m2023-09-02 16:08:54 | [INFO    ]  - Matching tile pair (14, 17)\u001b[0m\n",
      "\u001b[0;37m2023-09-02 16:08:55 | [INFO    ]  - Matching tile pair (15, 17)\u001b[0m\n",
      "\u001b[0;37m2023-09-02 16:08:56 | [INFO    ]  - Matching tile pair (15, 18)\u001b[0m\n",
      "\u001b[0;37m2023-09-02 16:08:57 | [INFO    ]  - Matching tile pair (17, 9)\u001b[0m\n",
      "\u001b[0;37m2023-09-02 16:08:58 | [INFO    ]  - Matching tile pair (17, 16)\u001b[0m\n",
      "\u001b[0;37m2023-09-02 16:08:59 | [INFO    ]  - Matching tile pair (17, 17)\u001b[0m\n",
      "\u001b[0;37m2023-09-02 16:09:00 | [INFO    ]  - Matching tile pair (18, 17)\u001b[0m\n",
      "\u001b[0;37m2023-09-02 16:09:01 | [INFO    ]  - Matching tile pair (19, 17)\u001b[0m\n",
      "\u001b[0;37m2023-09-02 16:09:01 | [INFO    ]  - Matching tile pair (19, 18)\u001b[0m\n",
      "\u001b[0;37m2023-09-02 16:09:02 | [INFO    ] Restoring full image coordinates of matches...\u001b[0m\n",
      "\u001b[0;37m2023-09-02 16:09:02 | [INFO    ] Matching by tile completed.\u001b[0m\n",
      "\u001b[0;37m2023-09-02 16:09:02 | [INFO    ] Matching done!\u001b[0m\n",
      "\u001b[0;37m2023-09-02 16:09:02 | [INFO    ] Performing geometric verification...\u001b[0m\n",
      "\u001b[0;37m2023-09-02 16:09:03 | [INFO    ] Pydegensac found 4195 inliers (11.44%)\u001b[0m\n",
      "\u001b[0;37m2023-09-02 16:09:03 | [INFO    ] Geometric verification done.\u001b[0m\n",
      "\u001b[0;37m2023-09-02 16:09:03 | [INFO    ] [Timer] | [Matching] preselection=0.907, matching=52.601, geometric_verification=1.015, \u001b[0m\n",
      "Function match took 54.5237 seconds\n"
     ]
    },
    {
     "data": {
      "text/plain": [
       "True"
      ]
     },
     "execution_count": 5,
     "metadata": {},
     "output_type": "execute_result"
    }
   ],
   "source": [
    "matcher = LOFTRMatcher()\n",
    "matcher.match(\n",
    "    image0,\n",
    "    image1,\n",
    "    quality=Quality.HIGH,\n",
    "    tile_selection=TileSelection.PRESELECTION,\n",
    "    grid=[5, 4],\n",
    "    overlap=100,\n",
    "    save_dir= \"LOFTR_matches\",\n",
    "    geometric_verification=GeometricVerification.PYDEGENSAC,\n",
    "    threshold=1.5,\n",
    ")"
   ]
  }
 ],
 "metadata": {
  "kernelspec": {
   "display_name": "icepy4d",
   "language": "python",
   "name": "python3"
  },
  "language_info": {
   "codemirror_mode": {
    "name": "ipython",
    "version": 3
   },
   "file_extension": ".py",
   "mimetype": "text/x-python",
   "name": "python",
   "nbconvert_exporter": "python",
   "pygments_lexer": "ipython3",
   "version": "3.10.11"
  },
  "orig_nbformat": 4
 },
 "nbformat": 4,
 "nbformat_minor": 2
}
