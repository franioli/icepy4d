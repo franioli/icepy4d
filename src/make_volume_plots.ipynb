{
 "cells": [
  {
   "cell_type": "code",
   "execution_count": null,
   "metadata": {},
   "outputs": [],
   "source": [
    "# Import libraries and set logger\n",
    "import numpy as np\n",
    "import pandas as pd\n",
    "\n",
    "from pathlib import Path\n",
    "from matplotlib import pyplot as plt\n",
    "from matplotlib.dates import DayLocator"
   ]
  },
  {
   "cell_type": "code",
   "execution_count": null,
   "metadata": {},
   "outputs": [],
   "source": [
    "# Parameters\n",
    "PCD_DIR = \"res/point_clouds_meshed\"\n",
    "PCD_PATTERN = \"sampled*.ply\"  \n",
    "OUT_DIR = \"res/volumes_variations\"\n",
    "DOD_DIR = \"z\"\n",
    "TSTEP = 5\n",
    "GRID_STEP = 0.2"
   ]
  },
  {
   "attachments": {},
   "cell_type": "markdown",
   "metadata": {},
   "source": [
    "Read dataframe and manipulate data"
   ]
  },
  {
   "cell_type": "code",
   "execution_count": null,
   "metadata": {},
   "outputs": [],
   "source": [
    "# Get the path of the output file with respect to icepy root folder\n",
    "out_dir = Path().parent.absolute().parents[1] / OUT_DIR\n",
    "fout_name = f\"{PCD_PATTERN.split('*')[0]}_dir{DOD_DIR.upper()}_tstep{TSTEP}_grid{GRID_STEP}\"\n",
    "fout = out_dir / f\"{fout_name}.csv\"\n",
    "\n",
    "# Read volume results from file and make plot\n",
    "column_names = [\n",
    "    \"pcd0\",\n",
    "    \"pcd1\",\n",
    "    \"volume\",\n",
    "    \"addedVolume\",\n",
    "    \"removedVolume\",\n",
    "    \"surface\",\n",
    "    \"matchingPercent\",\n",
    "    \"averageNeighborsPerCell\",\n",
    "]\n",
    "df = pd.read_csv(fout, sep=\",\", names=column_names)\n",
    "\n",
    "# Build date index, sort dataframe and compute dt\n",
    "max_surface_match = df[\"matchingPercent\"].to_numpy().max()\n",
    "df[\"date_in\"] = pd.to_datetime(\n",
    "    df[\"pcd0\"].str.replace(f\"{PCD_PATTERN.split('*')[0]}_\", \"\"), format=\"%Y_%m_%d\"\n",
    ")\n",
    "df.sort_values(by=\"date_in\", inplace=True)\n",
    "\n",
    "df[\"date_fin\"] = pd.to_datetime(\n",
    "    df[\"pcd1\"].str.replace(f\"{PCD_PATTERN.split('*')[0]}_\", \"\"), format=\"%Y_%m_%d\"\n",
    ")\n",
    "df[\"dt\"] = (df.date_fin - df.date_in) / np.timedelta64(1, \"D\")\n",
    "\n",
    "# Compute daily volume variation and normalize by area\n",
    "df[\"volume_daily\"] = df[\"volume\"] / df[\"dt\"]\n",
    "df[\"volume_daily_normalized\"] = (\n",
    "    df[\"volume_daily\"] / df[\"matchingPercent\"] * max_surface_match\n",
    ")\n",
    "\n",
    "# Compute cumulated volumes\n",
    "df[\"volume_daily_cumul\"] = df[\"volume_daily\"].cumsum()\n",
    "df[\"volume_daily_norm_cumul\"] = df[\"volume_daily_normalized\"].cumsum()\n",
    "\n",
    "# Export results to excel file\n",
    "df.to_excel(out_dir / f\"{fout_name}.xlsx\", index=False)"
   ]
  },
  {
   "attachments": {},
   "cell_type": "markdown",
   "metadata": {},
   "source": [
    "Plots"
   ]
  },
  {
   "cell_type": "code",
   "execution_count": null,
   "metadata": {},
   "outputs": [],
   "source": [
    "# Old plots\n",
    "\n",
    "# fig, ax = plt.subplots(1, 1)\n",
    "# ax.grid(visible=True, which=\"both\")\n",
    "# ax.plot(df[\"date_in\"], df[\"volume_daily\"])\n",
    "# ax.set_xlabel(\"day\")\n",
    "# ax.set_ylabel(\"m^3\")\n",
    "# ax.set_title(\"Daily volume difference\")\n",
    "# fig.set_size_inches(18.5, 10.5)\n",
    "# fig.savefig(out_dir / f\"{fout_name}_daily_diff.png\", dpi=300)\n",
    "\n",
    "# fig, ax = plt.subplots(1, 1)\n",
    "# ax.grid(visible=True, which=\"both\")\n",
    "# ax.plot(df[\"date_in\"], df[\"volume_daily_normalized\"])\n",
    "# ax.set_xlabel(\"day\")\n",
    "# ax.set_ylabel(\"m^3\")\n",
    "# ax.set_title(\"Daily volume difference\")\n",
    "# fig.set_size_inches(18.5, 10.5)\n",
    "# fig.savefig(out_dir / f\"{fout_name}_daily_diff_norm.png\", dpi=300)\n",
    "\n",
    "\n",
    "# fig, ax = plt.subplots(1, 1)\n",
    "# ax.grid(visible=True, which=\"both\")\n",
    "# ax.plot(df[\"date_in\"], df[\"volume_daily_norm_cumul\"])\n",
    "# ax.set_xlabel(\"day\")\n",
    "# ax.set_ylabel(\"m^3\")\n",
    "# ax.set_title(\"Daily volume difference cumulated\")\n",
    "# fig.set_size_inches(18.5, 10.5)\n",
    "# fig.savefig(out_dir / f\"{fout_name}_daily_diff_norm_cumulated.png\", dpi=300)"
   ]
  },
  {
   "cell_type": "code",
   "execution_count": null,
   "metadata": {},
   "outputs": [],
   "source": [
    "# Daily volumes \n",
    "fig, ax = plt.subplots()\n",
    "fig.set_tight_layout(True)\n",
    "\n",
    "ax.grid(visible=True, which=\"both\")\n",
    "ax.plot(df[\"date_in\"], df[\"volume_daily_normalized\"])\n",
    "ax.set_xlabel(\"day\")\n",
    "ax.set_ylabel(\"Volume [$m^3$]\")\n",
    "ax.set_title(f\"Daily volume differences - Step {TSTEP} days\")\n",
    "ax.grid(True)\n",
    "ax.minorticks_on()\n",
    "ax.grid(which='major', axis ='y', linewidth='0.5', color='black')\n",
    "ax.grid(which='major', axis ='x', linewidth='0.3', color='black')\n",
    "ax.grid(which='minor', axis ='y', linestyle=':', linewidth='0.5', color='black')\n",
    "ax.grid(which='minor', axis ='x', linestyle=':', linewidth='0.3', color='black')\n",
    "ax.xaxis.set_minor_locator(DayLocator(bymonthday=[1,7,14,21,28], interval=1, tz=None))\n",
    "fig.set_size_inches(18.5, 10.5)\n",
    "fig.savefig(out_dir / f\"{fout_name}_daily_diff_norm.png\", dpi=300)"
   ]
  },
  {
   "cell_type": "code",
   "execution_count": null,
   "metadata": {},
   "outputs": [],
   "source": [
    "# Cumulated volumes\n",
    "fig, ax = plt.subplots()\n",
    "fig.set_tight_layout(True)\n",
    "ax.plot(df[\"date_in\"], df[\"volume_daily_norm_cumul\"])\n",
    "ax.set_xlabel(\"Day\")\n",
    "ax.set_ylabel(\"Volume [$m^3$]\")\n",
    "ax.set_title(f\"Cumulated volume difference - Step {TSTEP} days\")\n",
    "ax.grid(True)\n",
    "ax.minorticks_on()\n",
    "ax.grid(which='major', axis ='y', linewidth='0.5', color='black')\n",
    "ax.grid(which='major', axis ='x', linewidth='0.3', color='black')\n",
    "ax.grid(which='minor', axis ='y', linestyle=':', linewidth='0.5', color='black')\n",
    "ax.grid(which='minor', axis ='x', linestyle=':', linewidth='0.3', color='black')\n",
    "ax.xaxis.set_minor_locator(DayLocator(bymonthday=[1,7,14,21,28], interval=1, tz=None))\n",
    "fig.set_size_inches(18.5, 10.5)\n",
    "fig.savefig(out_dir / f\"{fout_name}_daily_diff_norm_cumulated.png\", dpi=300)\n"
   ]
  }
 ],
 "metadata": {
  "kernelspec": {
   "display_name": "CloudComPy310",
   "language": "python",
   "name": "python3"
  },
  "language_info": {
   "codemirror_mode": {
    "name": "ipython",
    "version": 3
   },
   "file_extension": ".py",
   "mimetype": "text/x-python",
   "name": "python",
   "nbconvert_exporter": "python",
   "pygments_lexer": "ipython3",
   "version": "3.10.8 | packaged by conda-forge | (main, Nov 22 2022, 08:23:14) [GCC 10.4.0]"
  },
  "vscode": {
   "interpreter": {
    "hash": "a4e6b4c6c213daaf3b2d14c52693c81162cf304c61673a1f6b64e97b83ea5347"
   }
  }
 },
 "nbformat": 4,
 "nbformat_minor": 2
}
