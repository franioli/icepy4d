{
 "cells": [
  {
   "cell_type": "markdown",
   "metadata": {},
   "source": [
    "Let's first set up the python environment"
   ]
  },
  {
   "cell_type": "code",
   "execution_count": 2,
   "metadata": {},
   "outputs": [],
   "source": [
    "# Import required modules\n",
    "import shutil\n",
    "import sys\n",
    "from pathlib import Path\n",
    "\n",
    "import numpy as np\n",
    "\n",
    "# Import required icepy4d4D modules\n",
    "from icepy4d import classes as icepy4d_classes\n",
    "from icepy4d import matching\n",
    "from icepy4d import sfm\n",
    "from icepy4d import io\n",
    "from icepy4d import utils as icepy4d_utils\n",
    "from icepy4d.classes.epoch import Epoch, Epoches\n",
    "from icepy4d.metashape import metashape as MS\n",
    "from icepy4d.utils import initialization as inizialization"
   ]
  },
  {
   "cell_type": "markdown",
   "metadata": {},
   "source": [
    "Define the configuration file"
   ]
  },
  {
   "cell_type": "code",
   "execution_count": 3,
   "metadata": {},
   "outputs": [],
   "source": [
    "# Define the path to the configuration file\n",
    "CFG_FILE = \"config/config_2022.yaml\""
   ]
  },
  {
   "cell_type": "markdown",
   "metadata": {},
   "source": [
    "Inizialize all the required variables"
   ]
  },
  {
   "cell_type": "code",
   "execution_count": 4,
   "metadata": {},
   "outputs": [
    {
     "name": "stdout",
     "output_type": "stream",
     "text": [
      "\n",
      "================================================================\n",
      "ICEpy4D\n",
      "Image-based Continuos monitoring of glaciers' Evolution with low-cost stereo-cameras and Deep Learning photogrammetry\n",
      "2023 - Francesco Ioli - francesco.ioli@polimi.it\n",
      "================================================================\n",
      "\n",
      "\u001b[0;37m2023-08-29 14:52:42 | [INFO    ] Configuration file: config_2022\u001b[0m\n",
      "\u001b[0;37m2023-08-29 14:52:42 | [INFO    ] Epoch_to_process set to a pair of values. Expanding it for a range of epoches from epoch 0 to 158.\u001b[0m\n",
      "\u001b[0;37m2023-08-29 14:52:42 | [INFO    ] Image datastores created successfully.\u001b[0m\n"
     ]
    }
   ],
   "source": [
    "# Parse the configuration file\n",
    "cfg_file = Path(CFG_FILE)\n",
    "cfg = inizialization.parse_cfg(cfg_file)\n",
    "\n",
    "# Initialize the timer and logger\n",
    "timer_global = icepy4d_utils.AverageTimer()\n",
    "logger = icepy4d_utils.get_logger()\n",
    "\n",
    "# Get the list of cameras from the configuration file\n",
    "cams = cfg.cams\n",
    "\n",
    "# Get the list of images from the configuration file\n",
    "images, epoch_dict = inizialization.initialize_image_ds(cfg)\n",
    "\n",
    "# Initialize an empty Epoches object to store the results of each epoch\n",
    "epoches = Epoches(starting_epoch=cfg.proc.epoch_to_process[0])"
   ]
  },
  {
   "cell_type": "markdown",
   "metadata": {},
   "source": []
  }
 ],
 "metadata": {
  "kernelspec": {
   "display_name": "icepy4d",
   "language": "python",
   "name": "python3"
  },
  "language_info": {
   "codemirror_mode": {
    "name": "ipython",
    "version": 3
   },
   "file_extension": ".py",
   "mimetype": "text/x-python",
   "name": "python",
   "nbconvert_exporter": "python",
   "pygments_lexer": "ipython3",
   "version": "3.10.11"
  },
  "orig_nbformat": 4
 },
 "nbformat": 4,
 "nbformat_minor": 2
}
