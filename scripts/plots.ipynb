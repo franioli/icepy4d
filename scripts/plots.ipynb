{
 "cells": [
  {
   "attachments": {},
   "cell_type": "markdown",
   "metadata": {},
   "source": [
    "Load data"
   ]
  },
  {
   "cell_type": "code",
   "execution_count": null,
   "metadata": {},
   "outputs": [],
   "source": [
    "import numpy as np\n",
    "import pandas as pd\n",
    "\n",
    "from pathlib import Path\n",
    "from matplotlib import pyplot as plt\n",
    "from matplotlib.dates import DayLocator, DateFormatter\n",
    "import matplotlib.dates as mdates\n",
    "from mpl_toolkits.axes_grid1 import host_subplot\n",
    "\n",
    "%matplotlib widget\n",
    "\n",
    "FOCAL_FILE = \"res/focal_length.txt\"\n",
    "TEMPERATURE_FILE = \"res/surface_velocities/temperature_processed.parquet\"\n",
    "\n",
    "\n",
    "icepy_dir = Path.cwd().parents[0]\n",
    "\n",
    "data = pd.read_csv(icepy_dir / FOCAL_FILE, parse_dates=True)\n",
    "data[\"date\"] = pd.to_datetime(data[\"date\"], format=\"%Y_%m_%d\")\n",
    "temp = pd.read_parquet(icepy_dir / TEMPERATURE_FILE)"
   ]
  },
  {
   "cell_type": "code",
   "execution_count": null,
   "metadata": {},
   "outputs": [],
   "source": [
    "fig, host = plt.subplots(figsize=(10, 6))\n",
    "par = host.twinx()\n",
    "\n",
    "p1 = host.plot(temp[\"data\"], temp[\"Tavg_5d\"], label=\"Temperature\",color=\"tab:red\")\n",
    "p2 = par.plot(data[\"date\"], data[\"f1\"], label=\"Focal Length\", color=\"tab:blue\")\n",
    "# p2 = par.plot(data[\"date\"], data[\"f2\"], label=\"Focal Length\", color=\"tab:green\")"
   ]
  },
  {
   "cell_type": "code",
   "execution_count": null,
   "metadata": {},
   "outputs": [],
   "source": [
    "omega1 = data[\"omega1\"] - data[\"omega1\"].mean()\n",
    "omega2 = data[\"omega2\"] - data[\"omega2\"].mean()\n",
    "phi1 = data[\"phi1\"] - data[\"phi1\"].mean()\n",
    "phi2 = data[\"phi2\"] - data[\"phi2\"].mean()\n",
    "k1 = data[\"kappa1\"] - data[\"kappa1\"].mean()\n",
    "k2 = data[\"kappa2\"] - data[\"kappa2\"].mean()\n",
    "\n",
    "# omega1 = data[\"omega1\"] - data[\"omega1\"][0] \n",
    "# omega2 = data[\"omega2\"] - data[\"omega2\"][0]\n",
    "# phi1 = data[\"phi1\"] - data[\"phi1\"][0]\n",
    "# phi2 = data[\"phi2\"] - data[\"phi2\"][0]\n",
    "# k1 = data[\"kappa1\"] - data[\"kappa1\"][0]\n",
    "# k2 = data[\"kappa2\"] - data[\"kappa2\"][0]\n",
    "\n",
    "# fig, ax = plt.subplots(figsize=(10, 6))\n",
    "# ax.plot(data[\"date\"], k1, label=\"k1\",color=\"tab:red\")\n",
    "# ax.plot(data[\"date\"], k2, label=\"k2\",color=\"tab:blue\")\n",
    "# ax.legend()\n",
    "\n",
    "# fig, ax = plt.subplots(figsize=(10, 6))\n",
    "# ax.plot(data[\"date\"], omega1, label=\"omega1\",color=\"tab:red\")\n",
    "# ax.plot(data[\"date\"], omega2, label=\"omega2\",color=\"tab:blue\")\n",
    "# ax.legend()\n",
    "\n",
    "# fig, ax = plt.subplots(figsize=(10, 6))\n",
    "# ax.plot(data[\"date\"], phi1, label=\"phi1\",color=\"tab:red\")\n",
    "# ax.plot(data[\"date\"], phi2, label=\"phi2\",color=\"tab:blue\")\n",
    "# ax.legend()\n"
   ]
  },
  {
   "cell_type": "code",
   "execution_count": null,
   "metadata": {},
   "outputs": [],
   "source": [
    "def set_ax_proprierties(ax, ylabel=None, ylim=None, legend=True, xlabel=False):\n",
    "    if xlabel:\n",
    "        ax.set_xlabel(\"Date\")\n",
    "    if ylabel is not None:\n",
    "        ax.set_ylabel(ylabel)\n",
    "    dateFmt = DateFormatter('%b')\n",
    "    ax.xaxis.set_major_formatter(dateFmt)\n",
    "    ax.xaxis.set_major_locator(DayLocator(interval=30))\n",
    "    ax.grid()\n",
    "    if ylim is not None:\n",
    "        ax.set_ylim(ylim)\n",
    "    if legend:\n",
    "        ax.legend()\n",
    "    # ax.plot(temp[\"data\"], temp[\"Tavg_5d\"]-temp[\"Tavg_5d\"].mean(), label=\"Temperature\",color=\"tab:red\", linewidth=0.5, linestyle=\"--\")\n",
    "\n",
    "\n",
    "fig, axes = plt.subplots(4,2, figsize=(8, 8))\n",
    "# Camera 1\n",
    "axes[0,0].set_title(\"Camera 1\")\n",
    "axes[0,0].plot(data[\"date\"], omega1, label=\"$\\omega$\",color=\"tab:red\")\n",
    "set_ax_proprierties(axes[0,0], \"$\\omega$ [$\\degree$]\", (-0.21,0.21)) #(-0.07,0.07))\n",
    "axes[1,0].plot(data[\"date\"], phi1, label=\"$\\phi$\",color=\"tab:blue\")\n",
    "set_ax_proprierties(axes[1,0], \"$\\phi$ [$\\degree$]\", (-0.21,0.21)) \n",
    "axes[2,0].plot(data[\"date\"], k1, label=\"$\\kappa$\",color=\"tab:green\")\n",
    "set_ax_proprierties(axes[2,0], \"$\\kappa$ [$\\degree$]\", (-0.21,0.21)) \n",
    "\n",
    "axes[3,0].plot(data[\"date\"], data[\"f1\"], label=\"Focal Length\", color=\"tab:orange\")\n",
    "set_ax_proprierties(axes[3,0], \"Focal length [px]\",  ylim=(6608, 6631), legend=False, xlabel=True)\n",
    "\n",
    "# Camera 2\n",
    "axes[0,1].set_title(\"Camera 2\")\n",
    "axes[0,1].plot(data[\"date\"], omega2, label=\"$\\omega$\",color=\"tab:red\")\n",
    "set_ax_proprierties(axes[0,1],  ylim= (-0.21,0.21))\n",
    "axes[1,1].plot(data[\"date\"], phi2, label=\"$\\phi$\",color=\"tab:blue\")\n",
    "set_ax_proprierties(axes[1,1], ylim=(-0.21,0.21))\n",
    "axes[2,1].plot(data[\"date\"], k2, label=\"$\\kappa$\",color=\"tab:green\")\n",
    "set_ax_proprierties(axes[2,1],  ylim= (-0.21,0.21))\n",
    "axes[3,1].plot(data[\"date\"], data[\"f2\"], label=\"Focal Length\", color=\"tab:orange\")\n",
    "set_ax_proprierties(axes[3,1], \"Focal length [px]\", ylim=(9258, 9272), legend=False, xlabel=True)\n",
    "fig.tight_layout()"
   ]
  },
  {
   "attachments": {},
   "cell_type": "markdown",
   "metadata": {},
   "source": [
    "Image residuals and matching/tracking statistics"
   ]
  },
  {
   "cell_type": "code",
   "execution_count": null,
   "metadata": {},
   "outputs": [],
   "source": [
    "IMAGE_RESIDUALS_FILE = \"res/residuals_image.txt\"\n",
    "MATCHING_TRACKING_RES_FILE = \"res/matching_tracking_results.txt\"\n",
    "\n",
    "icepy_dir = Path.cwd().parents[0]\n",
    "\n",
    "# Read data\n",
    "img_res = pd.read_csv(icepy_dir / IMAGE_RESIDUALS_FILE, parse_dates=True)\n",
    "matching_res = pd.read_csv(icepy_dir / MATCHING_TRACKING_RES_FILE, parse_dates=True)\n",
    "\n",
    "# Convert date to datetime\n",
    "img_res[\"epoch\"] = pd.to_datetime(img_res[\"epoch\"], format=\"%Y_%m_%d\")\n",
    "for lab in [\"day_cur\", \"day_before\"]:\n",
    "    matching_res[lab] = pd.to_datetime(matching_res[lab], format=\"%Y_%m_%d\")"
   ]
  },
  {
   "cell_type": "code",
   "execution_count": null,
   "metadata": {},
   "outputs": [],
   "source": [
    "fig, ax = plt.subplots()\n",
    "\n",
    "ax.plot(img_res[\"epoch\"], img_res[\"count-track_id\"], label=\"Features\", color=\"tab:red\", linewidth=0.5, linestyle=\"--\")\n",
    "h2 = ax.twinx()\n",
    "h2.plot(img_res[\"epoch\"], img_res[\"mean-global_norm\"], label=\"Reprojection error\", color=\"tab:blue\", linewidth=1, linestyle=\"-\")\n",
    "\n",
    "plt.show()"
   ]
  },
  {
   "attachments": {},
   "cell_type": "markdown",
   "metadata": {},
   "source": []
  },
  {
   "cell_type": "code",
   "execution_count": null,
   "metadata": {},
   "outputs": [],
   "source": [
    "import seaborn as sns\n",
    "\n",
    "epochs = img_res[\"epoch\"]\n",
    "avg_residuals = img_res[\"mean-global_norm\"]\n",
    "std_residuals = img_res[\"std-global_norm\"]\n",
    "\n",
    "clrs = sns.color_palette(\"husl\",1)\n",
    "fig, ax = plt.subplots()\n",
    "ax.plot(epochs, avg_residuals, label=\"Reprojection error\", c=clrs[0], linewidth=2)\n",
    "ax.fill_between(epochs, avg_residuals-std_residuals, avg_residuals+std_residuals ,alpha=0.2, facecolor=clrs[0])\n",
    "\n",
    "plt.show()"
   ]
  },
  {
   "cell_type": "code",
   "execution_count": null,
   "metadata": {},
   "outputs": [],
   "source": [
    "cams = np.array([[312.889, 300.513, 135.113], [151.603, 99.254, 91.643]])\n",
    "np.linalg.norm(cams[0]-cams[1])"
   ]
  }
 ],
 "metadata": {
  "kernelspec": {
   "display_name": "icepy4d",
   "language": "python",
   "name": "python3"
  },
  "language_info": {
   "codemirror_mode": {
    "name": "ipython",
    "version": 3
   },
   "file_extension": ".py",
   "mimetype": "text/x-python",
   "name": "python",
   "nbconvert_exporter": "python",
   "pygments_lexer": "ipython3",
   "version": "3.9.16"
  }
 },
 "nbformat": 4,
 "nbformat_minor": 2
}
