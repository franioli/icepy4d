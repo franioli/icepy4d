{
 "cells": [
  {
   "cell_type": "code",
   "execution_count": null,
   "metadata": {},
   "outputs": [],
   "source": [
    "import ftplib\n",
    "import os\n",
    "from pathlib import Path\n",
    "\n",
    "# FTP server credentials\n",
    "ftp_host = \"labmgf.dica.polimi.it\"\n",
    "ftp_user = \"labmgf\"\n",
    "ftp_password = \"cXmxG8JcLyrZZY8\"\n",
    "ftp_port = 2121\n",
    "\n",
    "# Local path to the images\n",
    "file_path = \"LICENSE.txt\"\n",
    "\n",
    "# Destination path on the FTP server\n",
    "ftp_path = \"htdocs-SSL/pujob/test\"\n",
    "\n",
    "icepy_path = Path(os.getcwd()).parent\n",
    "file_path = icepy_path / file_path"
   ]
  },
  {
   "cell_type": "code",
   "execution_count": null,
   "metadata": {},
   "outputs": [],
   "source": [
    "with ftplib.FTP_TLS() as ftp:\n",
    "    ftp.connect(ftp_host, ftp_port)\n",
    "    ftp.login(user=ftp_user, passwd=ftp_password)\n",
    "    assert ftp.getwelcome() is not None, \"FTP connection failed.\"\n",
    "\n",
    "    # Change to the \"test\" subdirectory\n",
    "    ftp.cwd(ftp_path)\n",
    "\n",
    "    # Upload the file to the FTP server\n",
    "    with open(file_path, 'rb') as local_file:\n",
    "        res = ftp.storbinary(f\"STOR {file_path.name}\", local_file)\n",
    "\n",
    "    assert res.startswith('226'), \"File upload failed.\"    "
   ]
  },
  {
   "cell_type": "code",
   "execution_count": null,
   "metadata": {},
   "outputs": [],
   "source": [
    "ftp = ftplib.FTP_TLS()\n",
    "ftp.connect(ftp_host, ftp_port)\n",
    "ftp.login(user=ftp_user, passwd=ftp_password)\n",
    "ftp.getwelcome()\n",
    "\n",
    "# Change to the \"test\" subdirectory\n",
    "ftp.cwd(ftp_path)\n",
    "\n",
    "# Upload the file to the FTP server\n",
    "with open(file_path, 'rb') as local_file:\n",
    "    res = ftp.storbinary(f\"STOR {file_path.name}\", local_file)"
   ]
  }
 ],
 "metadata": {
  "kernelspec": {
   "display_name": "icepy4d",
   "language": "python",
   "name": "python3"
  },
  "language_info": {
   "codemirror_mode": {
    "name": "ipython",
    "version": 3
   },
   "file_extension": ".py",
   "mimetype": "text/x-python",
   "name": "python",
   "nbconvert_exporter": "python",
   "pygments_lexer": "ipython3",
   "version": "3.9.16"
  }
 },
 "nbformat": 4,
 "nbformat_minor": 2
}
