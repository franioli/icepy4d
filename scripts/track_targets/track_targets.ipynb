{
 "cells": [
  {
   "cell_type": "code",
   "execution_count": 5,
   "metadata": {},
   "outputs": [],
   "source": [
    "import numpy as np\n",
    "\n",
    "from pathlib import Path\n",
    "\n",
    "from icepy4d.classes import ImageDS, Targets\n",
    "from icepy4d.utils.track_targets import TrackTargets"
   ]
  },
  {
   "cell_type": "code",
   "execution_count": null,
   "metadata": {},
   "outputs": [],
   "source": [
    "# Parameters\n",
    "OUT_DIR = \"tools/track_targets/block_3/results\"\n",
    "\n",
    "TARGETS_DIR = \"tools/track_targets/block_3/data/targets\"\n",
    "TARGETS_IMAGES_FNAMES = [\"IMG_2637.csv\", \"IMG_1112.csv\"]\n",
    "TARGETS_WORLD_FNAME = \"target_world.csv\"\n",
    "IM_DIR = \"tools/track_targets/block_3/data/images\"\n",
    "\n",
    "cams = [\"p1\", \"p2\"]\n",
    "targets_to_track = [\"F2\", \"F13\"]\n",
    "\n",
    "patch_width = 512\n",
    "template_width = 16\n",
    "search_width = 64\n",
    "\n",
    "debug_viz = True\n",
    "verbose = True\n"
   ]
  },
  {
   "cell_type": "code",
   "execution_count": null,
   "metadata": {},
   "outputs": [],
   "source": [
    "target_dir = Path(TARGETS_DIR)\n",
    "targets_image_paths = [target_dir / fname for fname in TARGETS_IMAGES_FNAMES]\n",
    "targets = Targets(\n",
    "    im_file_path=targets_image_paths,\n",
    "    obj_file_path=target_dir / TARGETS_WORLD_FNAME,\n",
    ")"
   ]
  },
  {
   "cell_type": "code",
   "execution_count": null,
   "metadata": {},
   "outputs": [],
   "source": [
    "\n",
    "for cam_id, cam in enumerate(cams):\n",
    "    print(f\"Processing camera {cam}\")\n",
    "\n",
    "    images = ImageDS(Path(IM_DIR) / cam)\n",
    "\n",
    "    # Define nx2 array with image coordinates of the targets to track\n",
    "    # in the form of:\n",
    "    # [x1, y1],\n",
    "    # [x2, y2]...\n",
    "    # You can create it manually or use Target class\n",
    "    targets_coord = np.zeros((len(targets_to_track), 2))\n",
    "    for i, target in enumerate(targets_to_track):\n",
    "        targets_coord[i] = targets.get_image_coor_by_label([target], cam_id)[\n",
    "            0\n",
    "        ].squeeze()\n",
    "\n",
    "    # Define TrackTargets object and run tracking\n",
    "    tracking = TrackTargets(\n",
    "        images=images,\n",
    "        patch_centers=targets_coord,\n",
    "        out_dir=OUT_DIR,\n",
    "        target_names=targets_to_track,\n",
    "        patch_width=patch_width,\n",
    "        template_width=template_width,\n",
    "        search_width=search_width,\n",
    "        debug_viz=debug_viz,\n",
    "        verbose=verbose,\n",
    "    )\n",
    "    # tracking.viz_template()\n",
    "    tracking.track_all_targets()\n",
    "\n",
    "    print(\"Done.\")"
   ]
  }
 ],
 "metadata": {
  "kernelspec": {
   "display_name": "icepy4d",
   "language": "python",
   "name": "python3"
  },
  "language_info": {
   "codemirror_mode": {
    "name": "ipython",
    "version": 3
   },
   "file_extension": ".py",
   "mimetype": "text/x-python",
   "name": "python",
   "nbconvert_exporter": "python",
   "pygments_lexer": "ipython3",
   "version": "3.10.11"
  }
 },
 "nbformat": 4,
 "nbformat_minor": 2
}
