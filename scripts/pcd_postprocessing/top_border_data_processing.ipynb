{
 "cells": [
  {
   "cell_type": "code",
   "execution_count": null,
   "metadata": {},
   "outputs": [],
   "source": [
    "import pandas as pd \n",
    "from matplotlib import pyplot as plt\n",
    "from datetime import datetime\n",
    "import numpy as np\n",
    "from pathlib import Path\n",
    "import os\n",
    "\n",
    "def extract_date(filename):\n",
    "    separator= \"_\", \n",
    "    date_position = 1\n",
    "    date_string = filename.split(separator)[date_position]\n",
    "    date_obj = datetime.strptime(date_string, \"%Y_%m_%d\")\n",
    "    return date_obj.date()\n",
    "\n",
    "fname = \"res/detect_top_border/top_border_coords.txt\"\n",
    "icepy_dir = Path.cwd().parents[1]\n",
    "filepath = icepy_dir / fname\n",
    "data = pd.read_csv(filepath)\n",
    "# data[\"date\"] = data[\"pcd_name\"].apply(extract_date)\n",
    "data[\"date\"] =  pd.to_datetime(data[\"date\"], format=\"%Y_%m_%d\")\n",
    "\n",
    "h_lims  = [110, 114]\n",
    "data.loc[data[\"z_median\"]  < h_lims[0],\"z_median\"] = np.nan\n",
    "data.loc[data[\"z_median\"]  > h_lims[1],\"z_median\"] = np.nan\n",
    "\n",
    "data[\"z_median_rolling\"] = data[\"z_median\"].rolling(5, min_periods=1, center=True).median()\n",
    "data[\"z_mean_rolling\"] = data[\"z_median\"].rolling(5, min_periods=1, center=True).mean()"
   ]
  },
  {
   "cell_type": "code",
   "execution_count": null,
   "metadata": {},
   "outputs": [],
   "source": [
    "fig, ax = plt.subplots(1,1)\n",
    "# ax.plot(data[\"date\"], data[\"z_median_rolling\"])\n",
    "ax.plot(data[\"date\"], data[\"z_mean_rolling\"])\n",
    "ax.grid(visible=True)\n",
    "ax.set_xlabel(\"day\")\n",
    "ax.set_ylabel(\"heigth [m]\")\n",
    "plt.show()"
   ]
  }
 ],
 "metadata": {
  "kernelspec": {
   "display_name": "belpy",
   "language": "python",
   "name": "python3"
  },
  "language_info": {
   "codemirror_mode": {
    "name": "ipython",
    "version": 3
   },
   "file_extension": ".py",
   "mimetype": "text/x-python",
   "name": "python",
   "nbconvert_exporter": "python",
   "pygments_lexer": "ipython3",
   "version": "3.8.16"
  }
 },
 "nbformat": 4,
 "nbformat_minor": 2
}
