{
 "cells": [
  {
   "cell_type": "code",
   "execution_count": null,
   "metadata": {},
   "outputs": [],
   "source": [
    "import pandas as pd \n",
    "from matplotlib import pyplot as plt\n",
    "from datetime import datetime\n",
    "import numpy as np\n",
    "from pathlib import Path\n",
    "import os\n",
    "from matplotlib.dates import DayLocator, DateFormatter\n",
    "import matplotlib.dates as mdates\n",
    "\n",
    "%matplotlib widget\n",
    "\n",
    "def extract_date(filename):\n",
    "    separator= \"_\", \n",
    "    date_position = 1\n",
    "    date_string = filename.split(separator)[date_position]\n",
    "    date_obj = datetime.strptime(date_string, \"%Y_%m_%d\")\n",
    "    return date_obj.date()\n",
    "\n",
    "fname = \"res/detect_top_border/top_border_coords.txt\"\n",
    "icepy_dir = Path.cwd().parents[1]\n",
    "filepath = icepy_dir / fname\n",
    "data = pd.read_csv(filepath)\n",
    "# data[\"date\"] = data[\"pcd_name\"].apply(extract_date)\n",
    "data[\"date\"] =  pd.to_datetime(data[\"date\"], format=\"%Y_%m_%d\")\n",
    "\n",
    "h_lims  = [110, 114]\n",
    "# data.loc[data[\"z_median\"]  < h_lims[0],\"z_median\"] = np.nan\n",
    "# data.loc[data[\"z_median\"]  > h_lims[1],\"z_median\"] = np.nan\n",
    "valid = (data[\"z_median\"]  > h_lims[0]) & (data[\"z_median\"] < h_lims[1])\n",
    "\n",
    "\n",
    "data[\"z_median_rolling\"] = data[\"z_median\"][valid].rolling(5, min_periods=1, center=True).median()\n",
    "data[\"z_mean_rolling\"] = data[\"z_median\"][valid].rolling(5, min_periods=1, center=True).mean()"
   ]
  },
  {
   "cell_type": "code",
   "execution_count": null,
   "metadata": {},
   "outputs": [],
   "source": [
    "fig, ax = plt.subplots(1,1)\n",
    "# ax.plot(data[\"date\"], data[\"z_median_rolling\"])\n",
    "ax.plot(data[\"date\"], data[\"z_mean_rolling\"])\n",
    "ax.grid(visible=True)\n",
    "ax.set_xlabel(\"day\")\n",
    "ax.set_ylabel(\"heigth [m]\")\n",
    "ax.set_title(\"Z\")\n",
    "plt.show()"
   ]
  },
  {
   "cell_type": "code",
   "execution_count": null,
   "metadata": {},
   "outputs": [],
   "source": [
    "data[\"x_mean_rolling\"] = data[\"x_median\"][valid].rolling(5, min_periods=1, center=True).median()\n",
    "data[\"y_mean_rolling\"] = data[\"y_median\"][valid].rolling(5, min_periods=1, center=True).median()\n",
    "base_x = data[\"x_mean_rolling\"][0]\n",
    "\n",
    "major_locator = mdates.MonthLocator(interval=1)\n",
    "major_formatter = mdates.ConciseDateFormatter(major_locator)\n",
    "minor_locator =  mdates.WeekdayLocator(byweekday=0, interval=1)\n",
    "\n",
    "\n",
    "fig, ax = plt.subplots(1,1)\n",
    "ax.plot(data[\"date\"], data[\"x_mean_rolling\"]-base_x,'o-', linewidth=2, markersize=1, label=\"Glacier retreat\")\n",
    "ax.axhline(y=0, color='black', linestyle='--')\n",
    "ax.grid(visible=True)\n",
    "ax.set_xlabel(\"Day\", fontsize=12)\n",
    "ax.tick_params(axis='x', labelsize=10)\n",
    "ax.set_ylabel(\"X [m]\", fontsize=12)\n",
    "ax.tick_params(axis='y', labelsize=10)\n",
    "ax.set_title(\"Retreat along streamwise direction\", fontsize=14)\n",
    "ax.legend(fontsize=10)\n",
    "ax.grid(True)\n",
    "ax.minorticks_on()\n",
    "ax.grid(which=\"major\", axis=\"y\", linewidth=0.5, color=\"black\")\n",
    "ax.grid(which=\"major\", axis=\"x\", linewidth=0.3, color=\"black\")\n",
    "ax.grid(which=\"minor\", axis=\"y\", linestyle=\":\", linewidth=0.5, color=\"black\")\n",
    "ax.grid(which=\"minor\", axis=\"x\", linestyle=\":\", linewidth=0.3, color=\"black\")\n",
    "ax.xaxis.set_major_locator(major_locator)\n",
    "ax.xaxis.set_major_formatter(major_formatter)\n",
    "ax.xaxis.set_minor_locator(minor_locator)\n",
    "plt.tight_layout()\n",
    "plt.show()\n",
    "\n"
   ]
  },
  {
   "cell_type": "code",
   "execution_count": null,
   "metadata": {},
   "outputs": [],
   "source": []
  }
 ],
 "metadata": {
  "kernelspec": {
   "display_name": "belpy",
   "language": "python",
   "name": "python3"
  },
  "language_info": {
   "codemirror_mode": {
    "name": "ipython",
    "version": 3
   },
   "file_extension": ".py",
   "mimetype": "text/x-python",
   "name": "python",
   "nbconvert_exporter": "python",
   "pygments_lexer": "ipython3",
   "version": "3.8.16"
  }
 },
 "nbformat": 4,
 "nbformat_minor": 2
}
