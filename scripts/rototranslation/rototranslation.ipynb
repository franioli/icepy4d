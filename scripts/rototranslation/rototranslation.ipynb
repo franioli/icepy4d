{
 "cells": [
  {
   "cell_type": "code",
   "execution_count": null,
   "metadata": {},
   "outputs": [],
   "source": [
    "import numpy as np\n",
    "import pandas as pd\n",
    "from pathlib import Path\n",
    "\n",
    "from icepy4d.utils.rototranslation import Rotrotranslation, belvedere_loc2utm\n",
    "\n",
    "icepy_path = Path.cwd().parents[1]\n",
    "\n",
    "belv_rotra = Rotrotranslation(belvedere_loc2utm())"
   ]
  },
  {
   "cell_type": "code",
   "execution_count": null,
   "metadata": {},
   "outputs": [],
   "source": [
    "fname = \"res/DIC3D/movimento_DIC_3D.txt\"\n",
    "col_names = [\"X\", \"Y\", \"Z\", \"dX\", \"dY\", \"dZ\", \"C\"]\n",
    "points = pd.read_csv(icepy_path / fname, header=None, names=col_names)\n",
    "\n",
    "xyz = points[[\"X\", \"Y\", \"Z\"]].to_numpy().T\n",
    "enh = belv_rotra.apply_transformation(xyz).T"
   ]
  },
  {
   "cell_type": "code",
   "execution_count": null,
   "metadata": {},
   "outputs": [],
   "source": [
    "col_names = [\"E\", \"N\", \"h\", \"dE\", \"dN\", \"dh\", \"C\"]\n",
    "points_utm = pd.DataFrame(columns=col_names)\n",
    "points_utm[[\"E\", \"N\", \"h\"]] = enh\n",
    "points_utm[\"C\"] = points[\"C\"]"
   ]
  },
  {
   "cell_type": "code",
   "execution_count": null,
   "metadata": {},
   "outputs": [],
   "source": [
    "xyz = points[[\"X\", \"Y\", \"Z\"]].to_numpy()\n",
    "dxyz = points[[\"dX\", \"dY\", \"dZ\"]].to_numpy()\n",
    "xyz_fin = xyz + dxyz\n",
    "\n",
    "enh_fin = belv_rotra.apply_transformation(xyz_fin.T).T\n",
    "points_utm[[\"E_fin\", \"N_fin\", \"h_fin\"]] = enh\n",
    "\n",
    "dENh = enh_fin - enh\n",
    "points_utm[[\"dE\", \"dN\", \"dh\"]] = dENh"
   ]
  },
  {
   "cell_type": "code",
   "execution_count": null,
   "metadata": {},
   "outputs": [],
   "source": [
    "fname = \"res/DIC3D/movimento_DIC_3D_UTM.txt\"\n",
    "points_utm.to_csv(icepy_path / fname, sep=\",\", index=False)"
   ]
  },
  {
   "cell_type": "code",
   "execution_count": null,
   "metadata": {},
   "outputs": [],
   "source": [
    "target_world = pd.read_csv(icepy_path / fname, header=None, names=col_names)"
   ]
  }
 ],
 "metadata": {
  "kernelspec": {
   "display_name": "belpy",
   "language": "python",
   "name": "python3"
  },
  "language_info": {
   "codemirror_mode": {
    "name": "ipython",
    "version": 3
   },
   "file_extension": ".py",
   "mimetype": "text/x-python",
   "name": "python",
   "nbconvert_exporter": "python",
   "pygments_lexer": "ipython3",
   "version": "3.8.16"
  }
 },
 "nbformat": 4,
 "nbformat_minor": 2
}
