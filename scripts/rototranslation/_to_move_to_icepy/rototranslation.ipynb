{
 "cells": [
  {
   "cell_type": "code",
   "execution_count": null,
   "metadata": {},
   "outputs": [],
   "source": [
    "import numpy as np\n",
    "import pandas as pd\n",
    "\n",
    "def print_vector(vector):\n",
    "    for i in vector:\n",
    "        print(f\"{i.squeeze():05.3f}\") \n",
    "    \n",
    "def convert_to_homogeneous(x):\n",
    "    \"\"\"\n",
    "    Convert 2xn or 3xn vector of n points in euclidean coordinates\n",
    "    to a 3xn or 4xn vector homogeneous by adding a row of ones\n",
    "    \"\"\"\n",
    "    x = np.array(x)\n",
    "    ndim, npts = x.shape\n",
    "    if ndim != 2 and ndim != 3:\n",
    "        print(\n",
    "            \"Error: wrong number of dimension of the input vector.\\\n",
    "              A number of dimensions (rows) of 2 or 3 is required.\"\n",
    "        )\n",
    "        return None\n",
    "    x1 = np.concatenate((x, np.ones((1, npts), \"float32\")), axis=0)\n",
    "    return x1\n",
    "\n",
    "\n",
    "def convert_from_homogeneous(x):\n",
    "    \"\"\"\n",
    "    Convert 3xn or 4xn vector of n points in homogeneous coordinates\n",
    "    to a 2xn or 3xn vector in euclidean coordinates, by dividing by the\n",
    "    homogeneous part of the vector (last row) and removing one dimension\n",
    "    \"\"\"\n",
    "    x = np.array(x)\n",
    "    ndim, npts = x.shape\n",
    "    if ndim != 3 and ndim != 4:\n",
    "        print(\n",
    "            \"Error: wrong number of dimension of the input vector.\\\n",
    "              A number of dimensions (rows) of 2 or 3 is required.\"\n",
    "        )\n",
    "        return None\n",
    "    x1 = x[: ndim - 1, :] / x[ndim - 1, :]\n",
    "    return x1\n",
    "    \n",
    "def apply_transformation(T: np.ndarray, x: np.ndarray) -> np.ndarray:\n",
    "\n",
    "    return T @ x\n",
    "\n",
    "\n",
    "\n",
    "def get_coordinates_from_df(df: pd.DataFrame, to_homogeneous: bool = False,) -> np.ndarray:\n",
    "    xyz =  df[[\"X\", \"Y\", \"Z\"]].to_numpy()\n",
    "    if to_homogeneous:\n",
    "        xyz = np.concatenate((xyz, np.ones((xyz.shape[0],1))), axis=1)\n",
    "    return xyz\n",
    "    \n",
    "T_loc2wgs = np.array(\n",
    "    [[0.706579327583,\t-0.70687371492,\t-0.00012600114,\t416614.833],\n",
    "    [0.706873714924,\t0.706579267979,\t0.000202054813,\t5090932.706],\n",
    "    [-0.00005382637,\t-0.00023195939,\t0.999462246895,\t1767.547],\n",
    "    [0.,\t0.,\t0.,\t1.0]])\n",
    "\n",
    "T_wgs2loc = np.linalg.inv(T_loc2wgs)"
   ]
  },
  {
   "cell_type": "code",
   "execution_count": null,
   "metadata": {},
   "outputs": [],
   "source": [
    "# Test\n",
    "p = np.array(\n",
    "    [146.765,100.001,88.992,1]\n",
    ").reshape(4,-1)\n",
    "\n",
    "out = T_loc2wgs@p\n",
    "print_vector(out)\n",
    "print_vector(T_wgs2loc @ out)"
   ]
  },
  {
   "cell_type": "code",
   "execution_count": null,
   "metadata": {},
   "outputs": [],
   "source": [
    "# UTM 2 LOC\n",
    "p = np.array(\n",
    "    [\n",
    "        [416623.40, 5091366.28, 1902.50, 1],\n",
    "        [416651.77, 5091110.06, 1859.25, 1]\n",
    "        ]\n",
    ").T\n",
    "\n",
    "out = T_wgs2loc@p\n",
    "print_vector(out[:,0])\n",
    "print_vector(out[:,1])\n"
   ]
  },
  {
   "cell_type": "code",
   "execution_count": null,
   "metadata": {},
   "outputs": [],
   "source": [
    "# LOC 2 UTM\n",
    "p = np.array([\n",
    "    [312.8893994092904, 300.5131404068843, 135.1131123531500, 1],\n",
    "[151.60327996073528, 99.2543602448616, 91.64333053419362, 1]]\n",
    ").T\n",
    "\n",
    "out = T_loc2wgs@p\n",
    "print_vector(out[:,0])\n",
    "print_vector(out[:,1])\n",
    "\n"
   ]
  },
  {
   "cell_type": "code",
   "execution_count": null,
   "metadata": {},
   "outputs": [],
   "source": [
    "fname = \"target_for_belpy_local.txt\"\n",
    "targets = pd.read_csv(fname)\n",
    "\n",
    "xyz = get_coordinates_from_df(targets, to_homogeneous=True)\n",
    "\n",
    "utm = T_loc2wgs @ xyz.T\n",
    "utm = utm.T\n",
    "targets[\"E\"] = utm[:,0]\n",
    "targets[\"N\"] = utm[:,1]\n",
    "targets[\"h\"] = utm[:,2]\n",
    "\n",
    "targets.loc[0, [\"E\"]] = 416514.0983\n",
    "targets.loc[0, [\"N\"]] = 5091103.5718\n",
    "targets.loc[0, [\"h\"]] = 1839.1975\n",
    "\n",
    "targets_utm = targets[[\"#Label\", \"E\", \"N\", \"h\"]]\n",
    "targets_utm.to_csv( \"target_utm.csv\")\n"
   ]
  },
  {
   "cell_type": "code",
   "execution_count": null,
   "metadata": {},
   "outputs": [],
   "source": [
    "F10_loc = np.array([-1.8212855433302195, 219.2598752180853, 74.55843482880829, 1]).reshape(4,1)\n",
    "\n",
    "F10_utm = T_loc2wgs @ F10_loc\n",
    "print_vector(F10_utm)"
   ]
  }
 ],
 "metadata": {
  "kernelspec": {
   "display_name": "belpy",
   "language": "python",
   "name": "python3"
  },
  "language_info": {
   "codemirror_mode": {
    "name": "ipython",
    "version": 3
   },
   "file_extension": ".py",
   "mimetype": "text/x-python",
   "name": "python",
   "nbconvert_exporter": "python",
   "pygments_lexer": "ipython3",
   "version": "3.8.16"
  },
  "vscode": {
   "interpreter": {
    "hash": "794f75d38a1e2f6efa023a40c1f5318845dbfdeb01d810874a0706b78b83ae2e"
   }
  }
 },
 "nbformat": 4,
 "nbformat_minor": 2
}
