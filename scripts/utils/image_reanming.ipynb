{
 "cells": [
  {
   "cell_type": "code",
   "execution_count": null,
   "metadata": {},
   "outputs": [],
   "source": [
    "from pathlib import Path\n",
    "from shutil import move\n",
    "\n",
    "dir = \"/mnt/labmgf/Belvedere/belvedereStereo/img/2023/p2\"\n",
    "\n",
    "im_list = Path(dir).glob(\"*\")\n",
    "\n",
    "for im in im_list:\n",
    "    old_name = im.stem\n",
    "    parts = old_name.split(\"_\")\n",
    "    if parts[1] != \"IMG\":\n",
    "        continue\n",
    "    orig_img_name = f\"{parts[1]}_{parts[2]}\"\n",
    "    new_name = old_name.replace(f\"{orig_img_name}_\", \"\") + \"_\" + orig_img_name + im.suffix\n",
    "    move(im, im.parent / new_name) "
   ]
  }
 ],
 "metadata": {
  "kernelspec": {
   "display_name": "icepy4d",
   "language": "python",
   "name": "python3"
  },
  "language_info": {
   "codemirror_mode": {
    "name": "ipython",
    "version": 3
   },
   "file_extension": ".py",
   "mimetype": "text/x-python",
   "name": "python",
   "nbconvert_exporter": "python",
   "pygments_lexer": "ipython3",
   "version": "3.9.16"
  }
 },
 "nbformat": 4,
 "nbformat_minor": 2
}
