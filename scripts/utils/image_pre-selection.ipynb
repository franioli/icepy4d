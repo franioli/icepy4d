{
 "cells": [
  {
   "cell_type": "code",
   "execution_count": null,
   "metadata": {},
   "outputs": [],
   "source": [
    "import matplotlib.pyplot as plt\n",
    "import numpy as np\n",
    "from skimage.io import imread, imshow\n",
    "from skimage import data\n",
    "from skimage.util import img_as_ubyte\n",
    "from skimage.filters.rank import entropy\n",
    "from skimage.morphology import disk\n",
    "from skimage.color import rgb2hsv, rgb2gray, rgb2yuv\n",
    "\n",
    "from pathlib import Path\n",
    "from matplotlib import pyplot as plt"
   ]
  },
  {
   "cell_type": "code",
   "execution_count": null,
   "metadata": {},
   "outputs": [],
   "source": [
    "imdir = \"../../data/img\"\n",
    "imdir = Path(imdir)\n",
    "imlist = sorted(imdir.glob(\"*\"))  \n",
    "imlist = imlist[0:5]\n",
    "imlist"
   ]
  },
  {
   "cell_type": "code",
   "execution_count": null,
   "metadata": {},
   "outputs": [],
   "source": [
    "img_gray = { }\n",
    "img_entropy = {}\n",
    "for i, img in enumerate(imlist): \n",
    "    img_gray[i] = rgb2gray(imread(img))\n",
    "    img_entropy[i] = entropy(img_gray[i], disk(5))"
   ]
  },
  {
   "cell_type": "code",
   "execution_count": null,
   "metadata": {},
   "outputs": [],
   "source": [
    "for img, gray, entropy in zip(imlist, img_gray.values(),img_entropy.values()): \n",
    "    fig, (ax0, ax1) = plt.subplots(ncols=2, figsize=(12, 4),\n",
    "                                sharex=True, sharey=True)    \n",
    "    img0 = ax0.imshow(gray, cmap=plt.cm.gray)\n",
    "    ax0.set_title(\"Image\")\n",
    "    ax0.axis(\"off\")\n",
    "    fig.colorbar(img0, ax=ax0)\n",
    "\n",
    "    img1 = ax1.imshow(entropy, cmap='gray')\n",
    "    ax1.set_title(\"Entropy\")\n",
    "    ax1.axis(\"off\")\n",
    "    fig.colorbar(img1, ax=ax1)\n",
    "    # fig.savefig(img.name)\n",
    "                \n",
    "    print(f\"Average entropy: {np.average(entropy)}, median entropy:  {np.median(entropy)}\")\n",
    "    "
   ]
  }
 ],
 "metadata": {
  "kernelspec": {
   "display_name": "belpy",
   "language": "python",
   "name": "python3"
  },
  "language_info": {
   "codemirror_mode": {
    "name": "ipython",
    "version": 3
   },
   "file_extension": ".py",
   "mimetype": "text/x-python",
   "name": "python",
   "nbconvert_exporter": "python",
   "pygments_lexer": "ipython3",
   "version": "3.9.16"
  }
 },
 "nbformat": 4,
 "nbformat_minor": 2
}
