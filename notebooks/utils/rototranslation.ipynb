{
 "cells": [
  {
   "cell_type": "code",
   "execution_count": 1,
   "metadata": {},
   "outputs": [
    {
     "name": "stdout",
     "output_type": "stream",
     "text": [
      "Jupyter environment detected. Enabling Open3D WebVisualizer.\n",
      "[Open3D INFO] WebRTC GUI backend enabled.\n",
      "[Open3D INFO] WebRTCWindowSystem: HTTP handshake server disabled.\n"
     ]
    }
   ],
   "source": [
    "import numpy as np\n",
    "import pandas as pd\n",
    "from pathlib import Path\n",
    "from icepy4d.least_squares import rototra3d\n",
    "\n",
    "from icepy4d.utils.transformations import Rotrotranslation\n",
    "\n",
    "icepy_path = Path.cwd().parents[1]"
   ]
  },
  {
   "cell_type": "markdown",
   "metadata": {},
   "source": [
    "Create the Rototranslation object by passing a 3D transformation matrix to constrution, as: \n",
    "\n",
    "```\n",
    "rotra = Rotrotranslation(Tmat)\n",
    "```\n",
    "\n",
    "The 3D transformation matrix is a x4 numpy array expressed in homogeneous coordinates (last row is [0, 0, 0, 1]) and must contain both the rotion matrix and the traslation vector, as:\n",
    "\n",
    "```\n",
    "Tmat =  r11 | r12 | r13 | tx\n",
    "        r21 | r22 | r23 | ty\n",
    "        r31 | r32 | r33 | tz\n",
    "        0   | 0   | 0   | 1\n",
    "```\n",
    "\n",
    "For the Belvedere Glacier, the transformation between the carthesian local reference system and the WGS84 UTM32N reference system are stored within the Rototranslation class. \n",
    "Therefore, the Rototranslation object can be directly initialized as:\n",
    "\n",
    "```\n",
    "rotra_loc2UTM = Rotrotranslation.belvedere_loc2utm()\n",
    "rotra_UTM2loc = Rotrotranslation.belvedere_utm2loc()\n",
    "\n",
    "```\n"
   ]
  },
  {
   "cell_type": "code",
   "execution_count": 4,
   "metadata": {},
   "outputs": [
    {
     "name": "stdout",
     "output_type": "stream",
     "text": [
      "[[ 7.06579328e-01 -7.06873715e-01 -1.26001140e-04  4.16614833e+05]\n",
      " [ 7.06873715e-01  7.06579268e-01  2.02054813e-04  5.09093271e+06]\n",
      " [-5.38263700e-05 -2.31959390e-04  9.99462247e-01  1.76754700e+03]\n",
      " [ 0.00000000e+00  0.00000000e+00  0.00000000e+00  1.00000000e+00]]\n"
     ]
    }
   ],
   "source": [
    "belv_rotra = Rotrotranslation.belvedere_loc2utm()\n",
    "print(belv_rotra.T)"
   ]
  },
  {
   "cell_type": "markdown",
   "metadata": {},
   "source": [
    "After having initialized the rototranslation object with the transformation matrix, the transformation can be applied to a point or a list of points.\n",
    "To this end, let's first read the series of point from a text file by using pandas and save the coordinates in a numpy array with shape (3,N)."
   ]
  },
  {
   "cell_type": "code",
   "execution_count": 8,
   "metadata": {},
   "outputs": [
    {
     "name": "stdout",
     "output_type": "stream",
     "text": [
      "(3, 4980)\n"
     ]
    }
   ],
   "source": [
    "fname = \"res/DIC3D/movimento_DIC_3D.txt\"\n",
    "col_names = [\"X\", \"Y\", \"Z\", \"dX\", \"dY\", \"dZ\", \"C\"]\n",
    "points = pd.read_csv(icepy_path / fname, header=None, names=col_names)\n",
    "xyz = points[[\"X\", \"Y\", \"Z\"]].to_numpy().T\n",
    "print(xyz.shape)"
   ]
  },
  {
   "cell_type": "markdown",
   "metadata": {},
   "source": [
    "Apply the transformation to the points by using the `apply_transformation` method of the Rototranslation class:"
   ]
  },
  {
   "cell_type": "code",
   "execution_count": null,
   "metadata": {},
   "outputs": [],
   "source": [
    "enh = belv_rotra.apply_transformation(xyz).T"
   ]
  },
  {
   "cell_type": "code",
   "execution_count": null,
   "metadata": {},
   "outputs": [],
   "source": [
    "col_names = [\"E\", \"N\", \"h\", \"dE\", \"dN\", \"dh\", \"C\"]\n",
    "points_utm = pd.DataFrame(columns=col_names)\n",
    "points_utm[[\"E\", \"N\", \"h\"]] = enh\n",
    "points_utm[\"C\"] = points[\"C\"]"
   ]
  },
  {
   "cell_type": "code",
   "execution_count": null,
   "metadata": {},
   "outputs": [],
   "source": [
    "xyz = points[[\"X\", \"Y\", \"Z\"]].to_numpy()\n",
    "dxyz = points[[\"dX\", \"dY\", \"dZ\"]].to_numpy()\n",
    "xyz_fin = xyz + dxyz\n",
    "\n",
    "enh_fin = belv_rotra.apply_transformation(xyz_fin.T).T\n",
    "points_utm[[\"E_fin\", \"N_fin\", \"h_fin\"]] = enh\n",
    "\n",
    "dENh = enh_fin - enh\n",
    "points_utm[[\"dE\", \"dN\", \"dh\"]] = dENh"
   ]
  },
  {
   "cell_type": "code",
   "execution_count": null,
   "metadata": {},
   "outputs": [],
   "source": [
    "fname = \"res/DIC3D/movimento_DIC_3D_UTM.txt\"\n",
    "points_utm.to_csv(icepy_path / fname, sep=\",\", index=False)"
   ]
  },
  {
   "cell_type": "code",
   "execution_count": null,
   "metadata": {},
   "outputs": [],
   "source": [
    "fname = \"data/targets/target_world.csv\"\n",
    "out_name = \"data/targets/target_utm.csv\"\n",
    "\n",
    "target_loc= pd.read_csv(icepy_path / fname)\n",
    "\n",
    "targets_utm = pd.DataFrame(columns=[\"label\", \"E\", \"N\", \"h\"])\n",
    "targets_utm[\"label\"] = target_loc[\"label\"]\n",
    "targets_utm[['E', 'N', 'h']] = belv_rotra.apply_transformation(target_loc[[\"X\", \"Y\", \"Z\"]].to_numpy().T).T\n",
    "targets_utm.to_csv(icepy_path / out_name, sep=\",\", index=False)"
   ]
  }
 ],
 "metadata": {
  "kernelspec": {
   "display_name": "belpy",
   "language": "python",
   "name": "python3"
  },
  "language_info": {
   "codemirror_mode": {
    "name": "ipython",
    "version": 3
   },
   "file_extension": ".py",
   "mimetype": "text/x-python",
   "name": "python",
   "nbconvert_exporter": "python",
   "pygments_lexer": "ipython3",
   "version": "3.10.11"
  }
 },
 "nbformat": 4,
 "nbformat_minor": 2
}
