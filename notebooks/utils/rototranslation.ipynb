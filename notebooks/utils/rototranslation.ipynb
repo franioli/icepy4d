{
 "cells": [
  {
   "cell_type": "markdown",
   "metadata": {},
   "source": [
    "# Rototranslation"
   ]
  },
  {
   "cell_type": "code",
   "execution_count": 1,
   "metadata": {},
   "outputs": [
    {
     "name": "stdout",
     "output_type": "stream",
     "text": [
      "Jupyter environment detected. Enabling Open3D WebVisualizer.\n",
      "[Open3D INFO] WebRTC GUI backend enabled.\n",
      "[Open3D INFO] WebRTCWindowSystem: HTTP handshake server disabled.\n"
     ]
    }
   ],
   "source": [
    "import numpy as np\n",
    "import pandas as pd\n",
    "from pathlib import Path\n",
    "from icepy4d.least_squares import rototra3d\n",
    "\n",
    "from icepy4d.utils.transformations import Rotrotranslation\n",
    "\n",
    "icepy_path = Path.cwd().parents[1]"
   ]
  },
  {
   "cell_type": "markdown",
   "metadata": {},
   "source": [
    "## Initialize the Rototranslation class"
   ]
  },
  {
   "cell_type": "markdown",
   "metadata": {},
   "source": [
    "Create the Rototranslation object by passing a 3D transformation matrix to constrution, as: \n",
    "\n",
    "```\n",
    "rotra = Rotrotranslation(Tmat)\n",
    "```\n",
    "\n",
    "The 3D transformation matrix is a x4 numpy array expressed in homogeneous coordinates (last row is [0, 0, 0, 1]) and must contain both the rotion matrix and the traslation vector, as:\n",
    "\n",
    "```\n",
    "Tmat =  r11 | r12 | r13 | tx\n",
    "        r21 | r22 | r23 | ty\n",
    "        r31 | r32 | r33 | tz\n",
    "        0   | 0   | 0   | 1\n",
    "```\n",
    "\n",
    "For the Belvedere Glacier, the transformation between the carthesian local reference system and the WGS84 UTM32N reference system are stored within the Rototranslation class. \n",
    "Therefore, the Rototranslation object can be directly initialized as:\n",
    "\n",
    "```\n",
    "rotra_loc2UTM = Rotrotranslation.belvedere_loc2utm()\n",
    "rotra_UTM2loc = Rotrotranslation.belvedere_utm2loc()\n",
    "\n",
    "```\n",
    "\n",
    "The transformation matrix can be accessed as:\n",
    "\n",
    "```\n",
    "rotra.T\n"
   ]
  },
  {
   "cell_type": "code",
   "execution_count": 2,
   "metadata": {},
   "outputs": [
    {
     "name": "stdout",
     "output_type": "stream",
     "text": [
      "[[ 7.06579328e-01 -7.06873715e-01 -1.26001140e-04  4.16614833e+05]\n",
      " [ 7.06873715e-01  7.06579268e-01  2.02054813e-04  5.09093271e+06]\n",
      " [-5.38263700e-05 -2.31959390e-04  9.99462247e-01  1.76754700e+03]\n",
      " [ 0.00000000e+00  0.00000000e+00  0.00000000e+00  1.00000000e+00]]\n"
     ]
    }
   ],
   "source": [
    "belv_rotra = Rotrotranslation.belvedere_loc2utm()\n",
    "print(belv_rotra.T)"
   ]
  },
  {
   "cell_type": "markdown",
   "metadata": {},
   "source": [
    "The Rototranslation object can be also initialized by reading a transformation matrix from a file, as:\n",
    "\n",
    "```\n",
    "rotra = Rotrotranslation.read_T_from_file(filename)\n",
    "```\n",
    "\n",
    "The file must be a simple text file containing the transformation matrix, structured as a 4x4 matrix with whitespace-separated values.\n",
    "To keep the method simple, no other file formats are currently supported.\n",
    "This structure of the transformation matrix is the same as that you get by copying and pasting to an empty text file the transformation matrix from CloudCompare 'Apply Transformation' tool, for instance:\n",
    "\n",
    "```\n",
    "0.706579327583 -0.70687371492 -0.00012600114 416614.833\n",
    "0.706873714924 0.706579267979 0.000202054813 5090932.706\n",
    "-5.382637e-05 -0.00023195939 0.999462246895 1767.547\n",
    "0.0 0.0 0.0 1.0\n",
    "```\n"
   ]
  },
  {
   "cell_type": "code",
   "execution_count": 11,
   "metadata": {},
   "outputs": [
    {
     "name": "stdout",
     "output_type": "stream",
     "text": [
      "[[ 7.06579328e-01 -7.06873715e-01 -1.26001140e-04  4.16614833e+05]\n",
      " [ 7.06873715e-01  7.06579268e-01  2.02054813e-04  5.09093271e+06]\n",
      " [-5.38263700e-05 -2.31959390e-04  9.99462247e-01  1.76754700e+03]\n",
      " [ 0.00000000e+00  0.00000000e+00  0.00000000e+00  1.00000000e+00]]\n"
     ]
    }
   ],
   "source": [
    "rotra_from_file = Rotrotranslation.read_T_from_file(\n",
    "    icepy_path / \"data/crs/BELV_LOC2UTM.txt\"\n",
    ")\n",
    "print(rotra_from_file.T)"
   ]
  },
  {
   "cell_type": "markdown",
   "metadata": {},
   "source": [
    "## Working with points as numpy arrays\n",
    "\n",
    "After having initialized the rototranslation object, the transformation can be applied to a point or a list of points.\n",
    "To this end, let's first read the series of point from a text file by using pandas and extract the point coordinates as a numpy array with shape (N, 3), where N is the number of points.\n",
    "The points can then be easily transformed with the `transform` method of the Rototranslation class."
   ]
  },
  {
   "cell_type": "code",
   "execution_count": 3,
   "metadata": {},
   "outputs": [
    {
     "name": "stdout",
     "output_type": "stream",
     "text": [
      "Points in starting reference system:\n",
      "[[-499.855   402.0301  240.3745]\n",
      " [-302.8139  442.8938  221.9927]\n",
      " [-543.471   365.4121  217.7905]\n",
      " [  49.6488  192.0875   71.7466]\n",
      " [ -15.5549  315.3171  117.3462]\n",
      " [  41.5596  274.7651   92.0252]\n",
      " [  53.2401  163.0449   78.296 ]\n",
      " [-194.7426  287.7045  150.1151]\n",
      " [ -47.1266  257.7534  119.0749]\n",
      " [ -21.9544  227.5956   95.207 ]\n",
      " [ -19.5291  238.1006   96.6108]\n",
      " [   8.2768  244.675    80.6632]\n",
      " [  -6.8296  285.013    98.518 ]\n",
      " [-141.9356  324.2512  141.5215]\n",
      " [  -1.7781  219.4006   74.5789]\n",
      " [  60.112   211.5654   71.8052]\n",
      " [-532.7409  391.02    238.8015]\n",
      " [  51.1682  210.4649   70.9032]\n",
      " [  -1.8212  219.2598   74.5584]]\n",
      "Points in destination reference system:\n",
      "[[4.15977431e+05 5.09086349e+06 2.00772589e+03]\n",
      " [4.16087773e+05 5.09103164e+06 1.98933389e+03]\n",
      " [4.15972500e+05 5.09080678e+06 1.98516487e+03]\n",
      " [4.16514123e+05 5.09110354e+06 1.83920779e+03]\n",
      " [4.16380938e+05 5.09114453e+06 1.88475779e+03]\n",
      " [4.16449962e+05 5.09115625e+06 1.85945674e+03]\n",
      " [4.16537189e+05 5.09108556e+06 1.84576021e+03]\n",
      " [4.16273842e+05 5.09099836e+06 1.91752512e+03]\n",
      " [4.16399320e+05 5.09108154e+06 1.88650062e+03]\n",
      " [4.16438427e+05 5.09107802e+06 1.86265119e+03]\n",
      " [4.16432715e+05 5.09108716e+06 1.86405167e+03]\n",
      " [4.16447717e+05 5.09111146e+06 1.84810962e+03]\n",
      " [4.16408527e+05 5.09112928e+06 1.86594628e+03]\n",
      " [4.16285322e+05 5.09106151e+06 1.90892482e+03]\n",
      " [4.16458479e+05 5.09108649e+06 1.84203500e+03]\n",
      " [4.16507748e+05 5.09112470e+06 1.83926128e+03]\n",
      " [4.15961977e+05 5.09083246e+06 2.00615806e+03]\n",
      " [4.16502206e+05 5.09111760e+06 1.83836050e+03]\n",
      " [4.16458548e+05 5.09108636e+06 1.84201454e+03]]\n"
     ]
    }
   ],
   "source": [
    "fname = \"data/targets/target_world.csv\"\n",
    "\n",
    "target_loc= pd.read_csv(icepy_path / fname)\n",
    "points = target_loc[[\"X\", \"Y\", \"Z\"]].to_numpy()\n",
    "print(f\"Points in starting reference system:\\n{points}\")\n",
    "\n",
    "points_utm = belv_rotra.transform(points)\n",
    "print(f\"Points in destination reference system:\\n{points_utm}\")"
   ]
  },
  {
   "cell_type": "markdown",
   "metadata": {},
   "source": [
    "## Working with point clouds\n",
    "\n",
    "The RotoTranslation class can also be used to transform point clouds. To this end, the point cloud is read by using the Open3D library and then transformed with the `transform_pcd` method of the Rototranslation class.\n",
    "The Rototranslation class already implements functions to read and write the point cloud with Open3D, therefore the transformation is straightforward as:\n",
    "\n",
    "```\n",
    "pcd_transformed = rotra.transform_pcd(pcd, out_path)\n",
    "```\n",
    "\n",
    "If the output path is not specified, the point cloud is not saved to disk."
   ]
  },
  {
   "cell_type": "code",
   "execution_count": 6,
   "metadata": {},
   "outputs": [],
   "source": [
    "# Define paths\n",
    "pcd_path = icepy_path / \"res/monthly_pcd/belvedere2021_densaMedium_lingua_50cm_utm.ply\"\n",
    "out_path = icepy_path /\"res/monthly_pcd/belvedere2021_densaMedium_lingua_50cm_loc.ply\"\n",
    "\n",
    "# Apply the transformation\n",
    "pcd_transf = belv_rotra.transform_pcd(pcd_path, out_path=out_path)\n",
    "\n",
    "# Visualize the results\n",
    "import open3d as o3d\n",
    "\n",
    "o3d.visualization.draw_geometries([pcd_transf])"
   ]
  }
 ],
 "metadata": {
  "kernelspec": {
   "display_name": "belpy",
   "language": "python",
   "name": "python3"
  },
  "language_info": {
   "codemirror_mode": {
    "name": "ipython",
    "version": 3
   },
   "file_extension": ".py",
   "mimetype": "text/x-python",
   "name": "python",
   "nbconvert_exporter": "python",
   "pygments_lexer": "ipython3",
   "version": "3.10.11"
  }
 },
 "nbformat": 4,
 "nbformat_minor": 2
}
