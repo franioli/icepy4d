{
 "cells": [
  {
   "cell_type": "code",
   "execution_count": 1,
   "metadata": {},
   "outputs": [
    {
     "name": "stdout",
     "output_type": "stream",
     "text": [
      "Jupyter environment detected. Enabling Open3D WebVisualizer.\n",
      "[Open3D INFO] WebRTC GUI backend enabled.\n",
      "[Open3D INFO] WebRTCWindowSystem: HTTP handshake server disabled.\n"
     ]
    }
   ],
   "source": [
    "from icepy4d.utils import initialization\n",
    "from icepy4d.classes import Image\n",
    "from icepy4d.matching import SuperGlueMatcher, LOFTRMatcher, Quality, TileSelection, GeometricVerification"
   ]
  },
  {
   "cell_type": "markdown",
   "metadata": {},
   "source": [
    "Even though this step is not mandatory, it is suggested to setup a logger to see the output of the matching process. If no logger is setup, the output of the process is suppressed.\n",
    "The logger can be setup as follows:"
   ]
  },
  {
   "cell_type": "code",
   "execution_count": 2,
   "metadata": {},
   "outputs": [],
   "source": [
    "initialization.setup_logger()"
   ]
  },
  {
   "cell_type": "markdown",
   "metadata": {},
   "source": [
    "The first step is to load the images as numpy arrays.  \n",
    "We will use the Image class implemented in ICEpy4D, which allows for creating an Image instance by passing the path to the image file as `Image('path_to_image')`.  \n",
    "Creating the Image instance will read the exif data of the image and store them in the Image object. The actual image value is read when the Image.value proprierty is accessed.\n",
    "Alternatevely, one can also use OpencCV imread function to read the image as a numpy array (pay attention to the channel order, that should be RGB, while Opencv uses BGR)."
   ]
  },
  {
   "cell_type": "code",
   "execution_count": 3,
   "metadata": {},
   "outputs": [],
   "source": [
    "image0 = Image('../data/img/p1/IMG_2637.jpg').value\n",
    "image1 = Image('../data/img/p2/IMG_1112.jpg').value"
   ]
  },
  {
   "cell_type": "markdown",
   "metadata": {},
   "source": [
    "### SuperGlue matching\n",
    "\n",
    "For running the matching with SuperGlue, a new SuperGlueMatcher object must be initialized with the parameters for SuperGlue matching (see the documentation of the class for more details). The parameters are given as a dictionary, and the default values are used if nothing is given."
   ]
  },
  {
   "cell_type": "code",
   "execution_count": 4,
   "metadata": {},
   "outputs": [
    {
     "name": "stdout",
     "output_type": "stream",
     "text": [
      "\u001b[0;37m2023-09-11 11:24:49 | [INFO    ] Running inference on device cuda\u001b[0m\n",
      "Loaded SuperPoint model\n",
      "Loaded SuperGlue model (\"outdoor\" weights)\n",
      "\u001b[0;37m2023-09-11 11:24:50 | [INFO    ] Matching by tiles...\u001b[0m\n",
      "\u001b[0;37m2023-09-11 11:24:50 | [INFO    ] Matching tiles by preselection tile selection\u001b[0m\n",
      "\u001b[0;37m2023-09-11 11:24:50 | [INFO    ] Matching completed.\u001b[0m\n",
      "\u001b[0;37m2023-09-11 11:24:51 | [INFO    ]  - Matching tile pair (3, 2)\u001b[0m\n",
      "\u001b[0;37m2023-09-11 11:24:53 | [INFO    ]  - Matching tile pair (4, 7)\u001b[0m\n",
      "\u001b[0;37m2023-09-11 11:24:55 | [INFO    ]  - Matching tile pair (5, 7)\u001b[0m\n",
      "\u001b[0;37m2023-09-11 11:24:57 | [INFO    ]  - Matching tile pair (5, 8)\u001b[0m\n",
      "\u001b[0;37m2023-09-11 11:25:00 | [INFO    ]  - Matching tile pair (6, 6)\u001b[0m\n",
      "\u001b[0;37m2023-09-11 11:25:02 | [INFO    ]  - Matching tile pair (6, 9)\u001b[0m\n",
      "\u001b[0;37m2023-09-11 11:25:05 | [INFO    ]  - Matching tile pair (7, 6)\u001b[0m\n",
      "\u001b[0;37m2023-09-11 11:25:07 | [INFO    ]  - Matching tile pair (7, 7)\u001b[0m\n",
      "\u001b[0;37m2023-09-11 11:25:09 | [INFO    ]  - Matching tile pair (7, 9)\u001b[0m\n",
      "\u001b[0;37m2023-09-11 11:25:12 | [INFO    ]  - Matching tile pair (7, 10)\u001b[0m\n",
      "\u001b[0;37m2023-09-11 11:25:14 | [INFO    ]  - Matching tile pair (8, 7)\u001b[0m\n",
      "\u001b[0;37m2023-09-11 11:25:16 | [INFO    ]  - Matching tile pair (8, 8)\u001b[0m\n",
      "\u001b[0;37m2023-09-11 11:25:19 | [INFO    ]  - Matching tile pair (8, 10)\u001b[0m\n",
      "\u001b[0;37m2023-09-11 11:25:21 | [INFO    ]  - Matching tile pair (8, 11)\u001b[0m\n",
      "\u001b[0;37m2023-09-11 11:25:23 | [INFO    ]  - Matching tile pair (9, 9)\u001b[0m\n",
      "\u001b[0;37m2023-09-11 11:25:26 | [INFO    ]  - Matching tile pair (10, 9)\u001b[0m\n",
      "\u001b[0;37m2023-09-11 11:25:28 | [INFO    ]  - Matching tile pair (10, 10)\u001b[0m\n",
      "\u001b[0;37m2023-09-11 11:25:30 | [INFO    ]  - Matching tile pair (11, 10)\u001b[0m\n",
      "\u001b[0;37m2023-09-11 11:25:33 | [INFO    ] Restoring full image coordinates of matches...\u001b[0m\n",
      "\u001b[0;37m2023-09-11 11:25:33 | [INFO    ] Matching by tile completed.\u001b[0m\n",
      "\u001b[0;37m2023-09-11 11:25:33 | [INFO    ] Matching done!\u001b[0m\n",
      "\u001b[0;37m2023-09-11 11:25:33 | [INFO    ] Performing geometric verification...\u001b[0m\n",
      "\u001b[0;37m2023-09-11 11:25:33 | [INFO    ] Pydegensac found 2408 inliers (43.77%)\u001b[0m\n",
      "\u001b[0;37m2023-09-11 11:25:33 | [INFO    ] Geometric verification done.\u001b[0m\n",
      "\u001b[0;37m2023-09-11 11:25:34 | [INFO    ] [Timer] | [Matching] preselection=0.945, matching=42.208, geometric_verification=0.128, \u001b[0m\n",
      "Function match took 44.2775 seconds\n"
     ]
    },
    {
     "data": {
      "text/plain": [
       "True"
      ]
     },
     "execution_count": 4,
     "metadata": {},
     "output_type": "execute_result"
    }
   ],
   "source": [
    "matching_cfg = {\n",
    "    \"weights\": \"outdoor\",\n",
    "    \"keypoint_threshold\": 0.0001,\n",
    "    \"max_keypoints\": 8192,\n",
    "    \"match_threshold\": 0.2,\n",
    "    \"force_cpu\": False,\n",
    "}\n",
    "\n",
    "matcher = SuperGlueMatcher(matching_cfg)\n",
    "matcher.match(\n",
    "    image0,\n",
    "    image1,\n",
    "    quality=Quality.HIGH,\n",
    "    tile_selection=TileSelection.PRESELECTION,\n",
    "    grid=[4, 3],\n",
    "    overlap=200,\n",
    "    do_viz_matches=True,\n",
    "    do_viz_tiles=False,\n",
    "    save_dir = \"./matches/superglue_matches\",\n",
    "    geometric_verification=GeometricVerification.PYDEGENSAC,\n",
    "    threshold=1.5,\n",
    ")"
   ]
  },
  {
   "cell_type": "markdown",
   "metadata": {},
   "source": [
    "The matches with their descriptors and scores are saved in the matcher object.\n",
    "All the results are saved as numpy arrays with float32 dtype.\n",
    "They can be accessed as follows:"
   ]
  },
  {
   "cell_type": "code",
   "execution_count": 17,
   "metadata": {},
   "outputs": [
    {
     "name": "stdout",
     "output_type": "stream",
     "text": [
      "Number of matches: 2408\n",
      "Matchs on image0 (first 10):\n",
      "[[5249.  244.]\n",
      " [5267.  204.]\n",
      " [5348.   84.]\n",
      " [5268.  224.]\n",
      " [5253.  280.]\n",
      " [5364.   98.]\n",
      " [5268.  236.]\n",
      " [5407.   43.]\n",
      " [5302.  179.]\n",
      " [5274.  258.]]\n",
      "Matchs on image1 (first 10):\n",
      "[[5249.  244.]\n",
      " [5267.  204.]\n",
      " [5348.   84.]\n",
      " [5268.  224.]\n",
      " [5253.  280.]\n",
      " [5364.   98.]\n",
      " [5268.  236.]\n",
      " [5407.   43.]\n",
      " [5302.  179.]\n",
      " [5274.  258.]]\n"
     ]
    }
   ],
   "source": [
    "mktps1 = matcher.mkpts0\n",
    "mktps1 = matcher.mkpts1\n",
    "\n",
    "print(f\"Number of matches: {len(mktps1)}\")\n",
    "print(f\"Matchs on image0 (first 10):\\n{mktps1[0:10]}\")\n",
    "print(f\"Matchs on image1 (first 10):\\n{mktps1[0:10]}\")"
   ]
  },
  {
   "cell_type": "markdown",
   "metadata": {},
   "source": [
    "### LOFTR matching"
   ]
  },
  {
   "cell_type": "code",
   "execution_count": null,
   "metadata": {},
   "outputs": [],
   "source": [
    "matcher = LOFTRMatcher()\n",
    "matcher.match(\n",
    "    image0,\n",
    "    image1,\n",
    "    quality=Quality.HIGH,\n",
    "    tile_selection=TileSelection.PRESELECTION,\n",
    "    grid=[5, 4],\n",
    "    overlap=100,\n",
    "    save_dir= \"./matches/LOFTR_matches\",\n",
    "    geometric_verification=GeometricVerification.PYDEGENSAC,\n",
    "    threshold=1.5,\n",
    ")"
   ]
  },
  {
   "cell_type": "code",
   "execution_count": 6,
   "metadata": {},
   "outputs": [
    {
     "ename": "FileNotFoundError",
     "evalue": "[Errno 2] No such file or directory: './matches'",
     "output_type": "error",
     "traceback": [
      "\u001b[0;31m---------------------------------------------------------------------------\u001b[0m",
      "\u001b[0;31mFileNotFoundError\u001b[0m                         Traceback (most recent call last)",
      "Cell \u001b[0;32mIn[6], line 5\u001b[0m\n\u001b[1;32m      1\u001b[0m \u001b[39m# Clean up result folders\u001b[39;00m\n\u001b[1;32m      3\u001b[0m \u001b[39mimport\u001b[39;00m \u001b[39mshutil\u001b[39;00m\n\u001b[0;32m----> 5\u001b[0m shutil\u001b[39m.\u001b[39;49mrmtree(\u001b[39m\"\u001b[39;49m\u001b[39m./matches\u001b[39;49m\u001b[39m\"\u001b[39;49m)\n\u001b[1;32m      6\u001b[0m shutil\u001b[39m.\u001b[39mrmtree(\u001b[39m\"\u001b[39m\u001b[39m./logs\u001b[39m\u001b[39m\"\u001b[39m)\n",
      "File \u001b[0;32m~/miniconda3/envs/icepy4d/lib/python3.10/shutil.py:715\u001b[0m, in \u001b[0;36mrmtree\u001b[0;34m(path, ignore_errors, onerror)\u001b[0m\n\u001b[1;32m    713\u001b[0m     orig_st \u001b[39m=\u001b[39m os\u001b[39m.\u001b[39mlstat(path)\n\u001b[1;32m    714\u001b[0m \u001b[39mexcept\u001b[39;00m \u001b[39mException\u001b[39;00m:\n\u001b[0;32m--> 715\u001b[0m     onerror(os\u001b[39m.\u001b[39;49mlstat, path, sys\u001b[39m.\u001b[39;49mexc_info())\n\u001b[1;32m    716\u001b[0m     \u001b[39mreturn\u001b[39;00m\n\u001b[1;32m    717\u001b[0m \u001b[39mtry\u001b[39;00m:\n",
      "File \u001b[0;32m~/miniconda3/envs/icepy4d/lib/python3.10/shutil.py:713\u001b[0m, in \u001b[0;36mrmtree\u001b[0;34m(path, ignore_errors, onerror)\u001b[0m\n\u001b[1;32m    710\u001b[0m \u001b[39m# Note: To guard against symlink races, we use the standard\u001b[39;00m\n\u001b[1;32m    711\u001b[0m \u001b[39m# lstat()/open()/fstat() trick.\u001b[39;00m\n\u001b[1;32m    712\u001b[0m \u001b[39mtry\u001b[39;00m:\n\u001b[0;32m--> 713\u001b[0m     orig_st \u001b[39m=\u001b[39m os\u001b[39m.\u001b[39;49mlstat(path)\n\u001b[1;32m    714\u001b[0m \u001b[39mexcept\u001b[39;00m \u001b[39mException\u001b[39;00m:\n\u001b[1;32m    715\u001b[0m     onerror(os\u001b[39m.\u001b[39mlstat, path, sys\u001b[39m.\u001b[39mexc_info())\n",
      "\u001b[0;31mFileNotFoundError\u001b[0m: [Errno 2] No such file or directory: './matches'"
     ]
    }
   ],
   "source": [
    "# Clean up result folders\n",
    "\n",
    "import shutil\n",
    "\n",
    "shutil.rmtree(\"./matches\")\n",
    "shutil.rmtree(\"./logs\")"
   ]
  }
 ],
 "metadata": {
  "kernelspec": {
   "display_name": "icepy4d",
   "language": "python",
   "name": "python3"
  },
  "language_info": {
   "codemirror_mode": {
    "name": "ipython",
    "version": 3
   },
   "file_extension": ".py",
   "mimetype": "text/x-python",
   "name": "python",
   "nbconvert_exporter": "python",
   "pygments_lexer": "ipython3",
   "version": "3.10.11"
  },
  "orig_nbformat": 4
 },
 "nbformat": 4,
 "nbformat_minor": 2
}
